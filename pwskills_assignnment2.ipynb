{
  "nbformat": 4,
  "nbformat_minor": 0,
  "metadata": {
    "colab": {
      "provenance": []
    },
    "kernelspec": {
      "name": "python3",
      "display_name": "Python 3"
    },
    "language_info": {
      "name": "python"
    }
  },
  "cells": [
    {
      "cell_type": "markdown",
      "source": [
        "#**1. Discuss string slicing and provide examples.**\n",
        "Extrect or string slicing:\n",
        "\n",
        "String slicing is used to extract a portion of a string by defining a start and end index.\n",
        "\n",
        "It follows the string format[start:end], where start is the index where slicing/extracting begins (inclusive) and end is the index where it ends (exclusive).\n",
        "\n",
        "From the string format[start:end], \"start\" is inclusive which means the provided index is inlucuded whereas \"end\" is exclusive which means if [a:b] is the start and end index the value executed at end is b-1.\n",
        "\n",
        "#Example:"
      ],
      "metadata": {
        "id": "24sj4ld7MAvu"
      }
    },
    {
      "cell_type": "code",
      "source": [
        "string = \"I love chocolates\"\n",
        "string[0:5] #5 is exclusive, output shows untill index 4\n"
      ],
      "metadata": {
        "colab": {
          "base_uri": "https://localhost:8080/",
          "height": 36
        },
        "id": "PAyGz3PORbPh",
        "outputId": "a108d9c0-1caa-4bfb-99b4-d4c2d5d08077"
      },
      "execution_count": null,
      "outputs": [
        {
          "output_type": "execute_result",
          "data": {
            "text/plain": [
              "'I lov'"
            ],
            "application/vnd.google.colaboratory.intrinsic+json": {
              "type": "string"
            }
          },
          "metadata": {},
          "execution_count": 7
        }
      ]
    },
    {
      "cell_type": "code",
      "source": [
        "string[0:8] #tab space/space is also included while indexing"
      ],
      "metadata": {
        "colab": {
          "base_uri": "https://localhost:8080/",
          "height": 36
        },
        "id": "kEspK6KbW5pO",
        "outputId": "fd207303-79ae-4355-ba21-ba7531c6f96e"
      },
      "execution_count": null,
      "outputs": [
        {
          "output_type": "execute_result",
          "data": {
            "text/plain": [
              "'I love c'"
            ],
            "application/vnd.google.colaboratory.intrinsic+json": {
              "type": "string"
            }
          },
          "metadata": {},
          "execution_count": 8
        }
      ]
    },
    {
      "cell_type": "code",
      "source": [
        "string[0:] #for the whole sentence output"
      ],
      "metadata": {
        "colab": {
          "base_uri": "https://localhost:8080/",
          "height": 36
        },
        "id": "0nASuUDaXVGy",
        "outputId": "df646421-c5d2-4100-af44-4ae2424e99e7"
      },
      "execution_count": null,
      "outputs": [
        {
          "output_type": "execute_result",
          "data": {
            "text/plain": [
              "'I love chocolates'"
            ],
            "application/vnd.google.colaboratory.intrinsic+json": {
              "type": "string"
            }
          },
          "metadata": {},
          "execution_count": 9
        }
      ]
    },
    {
      "cell_type": "code",
      "source": [
        "string[3:] #excludes the first 3 indices"
      ],
      "metadata": {
        "colab": {
          "base_uri": "https://localhost:8080/",
          "height": 36
        },
        "id": "BaL4t_lB5AZF",
        "outputId": "7fd98906-b04b-4ebb-c62d-483f1f5a5f88"
      },
      "execution_count": null,
      "outputs": [
        {
          "output_type": "execute_result",
          "data": {
            "text/plain": [
              "'ove chocolates'"
            ],
            "application/vnd.google.colaboratory.intrinsic+json": {
              "type": "string"
            }
          },
          "metadata": {},
          "execution_count": 10
        }
      ]
    },
    {
      "cell_type": "code",
      "source": [
        "string[:-4] #excludes the last 4 indices"
      ],
      "metadata": {
        "colab": {
          "base_uri": "https://localhost:8080/",
          "height": 36
        },
        "id": "u1JOjySz5PN1",
        "outputId": "9154def4-156d-43fe-cb9b-5132ed100a03"
      },
      "execution_count": null,
      "outputs": [
        {
          "output_type": "execute_result",
          "data": {
            "text/plain": [
              "'I love chocol'"
            ],
            "application/vnd.google.colaboratory.intrinsic+json": {
              "type": "string"
            }
          },
          "metadata": {},
          "execution_count": 11
        }
      ]
    },
    {
      "cell_type": "code",
      "source": [
        "string[-4:] #shows the last 4 indices"
      ],
      "metadata": {
        "colab": {
          "base_uri": "https://localhost:8080/",
          "height": 36
        },
        "id": "_7Mmwr1z5i3s",
        "outputId": "4788b493-0fd3-48c6-cf45-c8f0ad05838d"
      },
      "execution_count": null,
      "outputs": [
        {
          "output_type": "execute_result",
          "data": {
            "text/plain": [
              "'ates'"
            ],
            "application/vnd.google.colaboratory.intrinsic+json": {
              "type": "string"
            }
          },
          "metadata": {},
          "execution_count": 12
        }
      ]
    },
    {
      "cell_type": "code",
      "source": [
        "#[start:end:step]\n",
        "#The below code, when executed gives an output which skips an index every 2 steps up to 7 indices(8 is exclusive)\n",
        "string[0:8:2]\n"
      ],
      "metadata": {
        "colab": {
          "base_uri": "https://localhost:8080/",
          "height": 36
        },
        "id": "Pv9Ysrjr5sQw",
        "outputId": "3479f367-6242-494e-d84c-d8a3ec788532"
      },
      "execution_count": null,
      "outputs": [
        {
          "output_type": "execute_result",
          "data": {
            "text/plain": [
              "'Ilv '"
            ],
            "application/vnd.google.colaboratory.intrinsic+json": {
              "type": "string"
            }
          },
          "metadata": {},
          "execution_count": 13
        }
      ]
    },
    {
      "cell_type": "code",
      "source": [
        "#The below code, when executed gives an output which skips an index every 3 steps up to 9 indices(10 is exclusive)\n",
        "string[0:10:3]\n"
      ],
      "metadata": {
        "colab": {
          "base_uri": "https://localhost:8080/",
          "height": 36
        },
        "id": "QyXmzANpPUpe",
        "outputId": "cdef9ea0-7e12-4f91-9815-0b4b96580768"
      },
      "execution_count": null,
      "outputs": [
        {
          "output_type": "execute_result",
          "data": {
            "text/plain": [
              "'Io o'"
            ],
            "application/vnd.google.colaboratory.intrinsic+json": {
              "type": "string"
            }
          },
          "metadata": {},
          "execution_count": 14
        }
      ]
    },
    {
      "cell_type": "code",
      "source": [
        "string[::1] #also for the whole sentence output"
      ],
      "metadata": {
        "colab": {
          "base_uri": "https://localhost:8080/",
          "height": 36
        },
        "id": "mHpwFpjyPwbt",
        "outputId": "a74291b9-c7ad-4115-c85e-ad50965996bb"
      },
      "execution_count": null,
      "outputs": [
        {
          "output_type": "execute_result",
          "data": {
            "text/plain": [
              "'I love chocolates'"
            ],
            "application/vnd.google.colaboratory.intrinsic+json": {
              "type": "string"
            }
          },
          "metadata": {},
          "execution_count": 15
        }
      ]
    },
    {
      "cell_type": "code",
      "source": [
        "string[::-1] #iterates over the sequence in reverse i.e., starts frome the end and moves to the beginning and step backwards by one character at a time"
      ],
      "metadata": {
        "colab": {
          "base_uri": "https://localhost:8080/",
          "height": 36
        },
        "id": "IDN3B-PKRtZt",
        "outputId": "ec748a2a-a79d-4da2-e9a8-b9f6701a87a5"
      },
      "execution_count": null,
      "outputs": [
        {
          "output_type": "execute_result",
          "data": {
            "text/plain": [
              "'setalocohc evol I'"
            ],
            "application/vnd.google.colaboratory.intrinsic+json": {
              "type": "string"
            }
          },
          "metadata": {},
          "execution_count": 16
        }
      ]
    },
    {
      "cell_type": "markdown",
      "source": [
        "#**2. Explain the key features of lists in Python.**\n"
      ],
      "metadata": {
        "id": "d7e_Rk7USOrj"
      }
    },
    {
      "cell_type": "markdown",
      "source": [
        "Features of Lists in Python:\n",
        "List:\n",
        "\n",
        "1. Lists are ordered collection of items.\n",
        "2. They are heterogenous.\n",
        "3. Lists are mutable.\n",
        "4. Lists use zero-based index(first index starts with 0)\n",
        "\n",
        "\n",
        "#1. Ordered lists:\n",
        "An ordered list is a list of items that are featured in a specific order and is used when the order of the items is important.\n",
        "\n",
        "#Example:"
      ],
      "metadata": {
        "id": "CXe2rfmiZ4h6"
      }
    },
    {
      "cell_type": "code",
      "source": [
        "#The order of instructions are the order of output\n",
        "weapons = [\"Pistols\",\"Knifes\", \"Daggers\", \"Bullets\", \"Poisons\", \"Swords\", \"Rifles\", \"Bows and arrows\"]\n",
        "weapons"
      ],
      "metadata": {
        "colab": {
          "base_uri": "https://localhost:8080/"
        },
        "id": "bck4KUMwE2JI",
        "outputId": "4757e2d6-a625-46db-df43-a62c5475f4f1"
      },
      "execution_count": null,
      "outputs": [
        {
          "output_type": "execute_result",
          "data": {
            "text/plain": [
              "['Pistols',\n",
              " 'Knifes',\n",
              " 'Daggers',\n",
              " 'Bullets',\n",
              " 'Poisons',\n",
              " 'Swords',\n",
              " 'Rifles',\n",
              " 'Bows and arrows']"
            ]
          },
          "metadata": {},
          "execution_count": 4
        }
      ]
    },
    {
      "cell_type": "code",
      "source": [
        "flowers = [\"Roses\", \"Hyaciths\", \"Hydrangeas\", \"Lilies\", \"Orchids\", \"Jasmines\", \"Plumerias\", \"Lotus\", \"Sunflowers\"]\n",
        "flowers"
      ],
      "metadata": {
        "colab": {
          "base_uri": "https://localhost:8080/"
        },
        "id": "8dQbO-yBUXb0",
        "outputId": "c5c5f5fd-29fc-414e-a00e-c531ff959c49"
      },
      "execution_count": null,
      "outputs": [
        {
          "output_type": "execute_result",
          "data": {
            "text/plain": [
              "['Roses',\n",
              " 'Hyaciths',\n",
              " 'Hydrangeas',\n",
              " 'Lilies',\n",
              " 'Orchids',\n",
              " 'Jasmines',\n",
              " 'Plumerias',\n",
              " 'Lotus',\n",
              " 'Sunflowers']"
            ]
          },
          "metadata": {},
          "execution_count": 39
        }
      ]
    },
    {
      "cell_type": "markdown",
      "source": [
        "#2. Heterogenous lists:\n",
        "Lists can contain different types of data structures like string, integer, float, bool, etc. That's why they are known as heterogenous lists.\n",
        "\n",
        "#Example:"
      ],
      "metadata": {
        "id": "vK9hFNpCWB5a"
      }
    },
    {
      "cell_type": "code",
      "source": [
        "list = [\"Gels\", \"Lotions\", \"Creams\", 1, 24, 99.99, True, False, 4+7j]\n",
        "list"
      ],
      "metadata": {
        "colab": {
          "base_uri": "https://localhost:8080/"
        },
        "id": "_JwzASD_WePd",
        "outputId": "c812f1f5-6cf3-412e-9665-a4bf02e6f01e"
      },
      "execution_count": null,
      "outputs": [
        {
          "output_type": "execute_result",
          "data": {
            "text/plain": [
              "['Gels', 'Lotions', 'Creams', 1, 24, 99.99, True, False, (4+7j)]"
            ]
          },
          "metadata": {},
          "execution_count": 29
        }
      ]
    },
    {
      "cell_type": "code",
      "source": [
        "list1 = [True, 255, 7.99, \"Water\", \"Fire\", 9+10j]\n",
        "list1"
      ],
      "metadata": {
        "colab": {
          "base_uri": "https://localhost:8080/"
        },
        "id": "AJ9idIXlX61h",
        "outputId": "be718c77-f71d-4650-cb26-d5443913581f"
      },
      "execution_count": null,
      "outputs": [
        {
          "output_type": "execute_result",
          "data": {
            "text/plain": [
              "[True, 255, 7.99, 'Water', 'Fire', (9+10j)]"
            ]
          },
          "metadata": {},
          "execution_count": 14
        }
      ]
    },
    {
      "cell_type": "code",
      "source": [
        "#List of lists\n",
        "#A list can be created by compiling diffrent lists in one.\n",
        "#Here, 1st list is taken as a whole index, so [1, 2, 3] is 0 index, [4, 5, 6] is 1st index etc.\n",
        "lis = [[1, 2, 3], [4, 5, 6], [7, 8, 9]]\n",
        "lis"
      ],
      "metadata": {
        "colab": {
          "base_uri": "https://localhost:8080/"
        },
        "id": "zyFMcPnIYUeV",
        "outputId": "a775a5e2-6031-4f7c-897a-6c271787f2cc"
      },
      "execution_count": null,
      "outputs": [
        {
          "output_type": "execute_result",
          "data": {
            "text/plain": [
              "[[1, 2, 3], [4, 5, 6], [7, 8, 9]]"
            ]
          },
          "metadata": {},
          "execution_count": 15
        }
      ]
    },
    {
      "cell_type": "code",
      "source": [
        "lis[1] #shows the 1st index"
      ],
      "metadata": {
        "colab": {
          "base_uri": "https://localhost:8080/"
        },
        "id": "vLWvTzx5Y6Tt",
        "outputId": "e5b6babf-4b75-4463-9688-a2e5c520df2c"
      },
      "execution_count": null,
      "outputs": [
        {
          "output_type": "execute_result",
          "data": {
            "text/plain": [
              "[4, 5, 6]"
            ]
          },
          "metadata": {},
          "execution_count": 16
        }
      ]
    },
    {
      "cell_type": "code",
      "source": [
        "#Indices of indices can also be shown and gives valid output\n",
        "lis[1][2] #shows the 2nd index of the 1st index"
      ],
      "metadata": {
        "colab": {
          "base_uri": "https://localhost:8080/"
        },
        "id": "3JUP-OvHZOio",
        "outputId": "932644dd-7447-487a-93c0-b10ed4c397bf"
      },
      "execution_count": null,
      "outputs": [
        {
          "output_type": "execute_result",
          "data": {
            "text/plain": [
              "6"
            ]
          },
          "metadata": {},
          "execution_count": 18
        }
      ]
    },
    {
      "cell_type": "markdown",
      "source": [
        "#3. Mutable lists:\n",
        "Lists are mutable. An item in a list can be changed by accessing it directly as part of the assignment statement.\n",
        "\n",
        "#Example:\n"
      ],
      "metadata": {
        "id": "nwaNk-EmZ-N-"
      }
    },
    {
      "cell_type": "code",
      "source": [
        "weapons"
      ],
      "metadata": {
        "colab": {
          "base_uri": "https://localhost:8080/"
        },
        "id": "weaD_CUrarAQ",
        "outputId": "c9a3f86f-94b4-41ab-c325-aff1f453a930"
      },
      "execution_count": null,
      "outputs": [
        {
          "output_type": "execute_result",
          "data": {
            "text/plain": [
              "['Pistols',\n",
              " 'Knifes',\n",
              " 'Daggers',\n",
              " 'Bullets',\n",
              " 'Poisons',\n",
              " 'Swords',\n",
              " 'Rifles',\n",
              " 'Bows and arrows']"
            ]
          },
          "metadata": {},
          "execution_count": 6
        }
      ]
    },
    {
      "cell_type": "code",
      "source": [
        "weapons[0] = \"Revolvers\" #This changes index 0 i.e., 'Pistols' to 'Revolvers'\n",
        "weapons"
      ],
      "metadata": {
        "colab": {
          "base_uri": "https://localhost:8080/"
        },
        "id": "bgus0SiJatN9",
        "outputId": "fb884340-5fc4-423a-ea12-8d6c84c7ecc7"
      },
      "execution_count": null,
      "outputs": [
        {
          "output_type": "execute_result",
          "data": {
            "text/plain": [
              "['Revolvers',\n",
              " 'Knifes',\n",
              " 'Daggers',\n",
              " 'Bullets',\n",
              " 'Poisons',\n",
              " 'Swords',\n",
              " 'Rifles',\n",
              " 'Bows and arrows']"
            ]
          },
          "metadata": {},
          "execution_count": 21
        }
      ]
    },
    {
      "cell_type": "code",
      "source": [
        "weapons[7] = \"Flamethrower\" #This changes index 7 i.e., 'Bows and arrows' to 'Flamethrower'\n",
        "weapons"
      ],
      "metadata": {
        "colab": {
          "base_uri": "https://localhost:8080/"
        },
        "id": "pHPcZ6G9a7cx",
        "outputId": "2c29a830-0db8-493b-9016-56f7e2c304a6"
      },
      "execution_count": null,
      "outputs": [
        {
          "output_type": "execute_result",
          "data": {
            "text/plain": [
              "['Revolvers',\n",
              " 'Knifes',\n",
              " 'Daggers',\n",
              " 'Bullets',\n",
              " 'Poisons',\n",
              " 'Swords',\n",
              " 'Rifles',\n",
              " 'Flamethrower']"
            ]
          },
          "metadata": {},
          "execution_count": 22
        }
      ]
    },
    {
      "cell_type": "markdown",
      "source": [
        "#4. Lists use zero-based index(first index starts with 0)\n",
        "\n",
        "#Example:"
      ],
      "metadata": {
        "id": "A24eOmh8braE"
      }
    },
    {
      "cell_type": "code",
      "source": [
        "flowers"
      ],
      "metadata": {
        "colab": {
          "base_uri": "https://localhost:8080/"
        },
        "id": "ZVoKmS7hbzbw",
        "outputId": "cbab2a40-b68c-4a1a-9a35-0551f58d98e1"
      },
      "execution_count": null,
      "outputs": [
        {
          "output_type": "execute_result",
          "data": {
            "text/plain": [
              "['Roses',\n",
              " 'Hyaciths',\n",
              " 'Hydrangeas',\n",
              " 'Lilies',\n",
              " 'Orchids',\n",
              " 'Jasmines',\n",
              " 'Plumerias',\n",
              " 'Lotus',\n",
              " 'Sunflowers']"
            ]
          },
          "metadata": {},
          "execution_count": 23
        }
      ]
    },
    {
      "cell_type": "code",
      "source": [
        "flowers[0] #displays the first index"
      ],
      "metadata": {
        "colab": {
          "base_uri": "https://localhost:8080/",
          "height": 36
        },
        "id": "5xNn1Dkgb98k",
        "outputId": "3f739341-1286-4049-8098-4c5823f3d201"
      },
      "execution_count": null,
      "outputs": [
        {
          "output_type": "execute_result",
          "data": {
            "text/plain": [
              "'Roses'"
            ],
            "application/vnd.google.colaboratory.intrinsic+json": {
              "type": "string"
            }
          },
          "metadata": {},
          "execution_count": 24
        }
      ]
    },
    {
      "cell_type": "code",
      "source": [
        "list = [\"Gels\", \"Lotions\", \"Creams\", 1, 24, 99.99, True, False, 4+7j]\n",
        "list[0] #displays the first index"
      ],
      "metadata": {
        "colab": {
          "base_uri": "https://localhost:8080/",
          "height": 36
        },
        "id": "3b5bBqoDcELH",
        "outputId": "173039ea-560d-4a67-d7c3-78957d7a8637"
      },
      "execution_count": null,
      "outputs": [
        {
          "output_type": "execute_result",
          "data": {
            "text/plain": [
              "'Gels'"
            ],
            "application/vnd.google.colaboratory.intrinsic+json": {
              "type": "string"
            }
          },
          "metadata": {},
          "execution_count": 25
        }
      ]
    },
    {
      "cell_type": "markdown",
      "source": [
        "#**3. Describe how to access, modify and delete elements in a list with examples.**\n",
        "ACCESSING:\n",
        "* List elements are ordered by index, a number assigned to their placement in the list.\n",
        "* List indices start at 0.\n",
        "* To access: list[index]\n",
        "* list.index() to find the index number\n",
        "\n",
        "MODIFICATION:\n",
        "1. .append\n",
        "2. .insert\n",
        "3. .extend\n",
        "4. Concatenation(Adding 2 lists with '+')\n",
        "5. Repetition\n",
        "6. sorted\n",
        "7. len\n",
        "8. .count\n",
        "9. pop\n",
        "\n",
        "DELETION:\n",
        "1. .del\n",
        "2. .clear\n",
        "3. .remove"
      ],
      "metadata": {
        "id": "DsjCLxgCcW7C"
      }
    },
    {
      "cell_type": "markdown",
      "source": [
        "#Elements access in a list:\n",
        "Elements in a list can be accessed through the indices assigned to the particular element."
      ],
      "metadata": {
        "id": "HljYl0YMTRE9"
      }
    },
    {
      "cell_type": "code",
      "source": [
        "weapons"
      ],
      "metadata": {
        "colab": {
          "base_uri": "https://localhost:8080/"
        },
        "id": "wb4JM27jWpUN",
        "outputId": "9ca4d970-ec50-4690-b385-cc1cf3358f03"
      },
      "execution_count": null,
      "outputs": [
        {
          "output_type": "execute_result",
          "data": {
            "text/plain": [
              "['Pistols',\n",
              " 'Knifes',\n",
              " 'Daggers',\n",
              " 'Bullets',\n",
              " 'Poisons',\n",
              " 'Swords',\n",
              " 'Rifles',\n",
              " 'Bows and arrows']"
            ]
          },
          "metadata": {},
          "execution_count": 7
        }
      ]
    },
    {
      "cell_type": "code",
      "source": [
        "weapons[0] #displays the first index"
      ],
      "metadata": {
        "colab": {
          "base_uri": "https://localhost:8080/",
          "height": 36
        },
        "id": "D2jGiIOTX6EJ",
        "outputId": "b56153e7-0b57-48d4-80d2-4e226a3881c1"
      },
      "execution_count": null,
      "outputs": [
        {
          "output_type": "execute_result",
          "data": {
            "text/plain": [
              "'Pistols'"
            ],
            "application/vnd.google.colaboratory.intrinsic+json": {
              "type": "string"
            }
          },
          "metadata": {},
          "execution_count": 8
        }
      ]
    },
    {
      "cell_type": "code",
      "source": [
        "weapons[7] #displays the last index"
      ],
      "metadata": {
        "colab": {
          "base_uri": "https://localhost:8080/",
          "height": 36
        },
        "id": "guKY0QW9YBZe",
        "outputId": "15e21010-543c-490d-cb3b-a310b04b7821"
      },
      "execution_count": null,
      "outputs": [
        {
          "output_type": "execute_result",
          "data": {
            "text/plain": [
              "'Bows and arrows'"
            ],
            "application/vnd.google.colaboratory.intrinsic+json": {
              "type": "string"
            }
          },
          "metadata": {},
          "execution_count": 9
        }
      ]
    },
    {
      "cell_type": "markdown",
      "source": [
        "#To find the index of a particular element:"
      ],
      "metadata": {
        "id": "sdfgPB9oZfqB"
      }
    },
    {
      "cell_type": "code",
      "source": [
        "weapons.index(\"Daggers\") #shows the index of 'Daggers'"
      ],
      "metadata": {
        "colab": {
          "base_uri": "https://localhost:8080/"
        },
        "id": "Flz0bhM8Z43t",
        "outputId": "ce6bc237-2512-402e-ee89-600306b537eb"
      },
      "execution_count": null,
      "outputs": [
        {
          "output_type": "execute_result",
          "data": {
            "text/plain": [
              "2"
            ]
          },
          "metadata": {},
          "execution_count": 10
        }
      ]
    },
    {
      "cell_type": "code",
      "source": [
        "weapons.index(\"Rifles\") #shows the index of 'Rifles'"
      ],
      "metadata": {
        "colab": {
          "base_uri": "https://localhost:8080/"
        },
        "id": "QgB4prJWZ8ww",
        "outputId": "2bf6c8f6-71ae-4fa0-a312-fad881976510"
      },
      "execution_count": null,
      "outputs": [
        {
          "output_type": "execute_result",
          "data": {
            "text/plain": [
              "6"
            ]
          },
          "metadata": {},
          "execution_count": 11
        }
      ]
    },
    {
      "cell_type": "markdown",
      "source": [
        "#Modifying lists:\n",
        "As lists are mutable, they can be modified very easily."
      ],
      "metadata": {
        "id": "raVSfzUkYZJf"
      }
    },
    {
      "cell_type": "markdown",
      "source": [
        "#1. \".append\" allows us to add items at the end of the list.\n",
        "\n",
        "#Example:"
      ],
      "metadata": {
        "id": "6Ce3qN5acqw5"
      }
    },
    {
      "cell_type": "code",
      "source": [
        "dark_verse = []\n",
        "dark_verse.append(\"The Predator\")\n",
        "dark_verse"
      ],
      "metadata": {
        "colab": {
          "base_uri": "https://localhost:8080/"
        },
        "id": "QbglMD-NdCxW",
        "outputId": "1cac432b-7161-4123-d128-8bec11fe58f8"
      },
      "execution_count": null,
      "outputs": [
        {
          "output_type": "execute_result",
          "data": {
            "text/plain": [
              "['The Predator']"
            ]
          },
          "metadata": {},
          "execution_count": 37
        }
      ]
    },
    {
      "cell_type": "code",
      "source": [
        "dark_verse.append(\"The Reaper\")\n",
        "dark_verse"
      ],
      "metadata": {
        "colab": {
          "base_uri": "https://localhost:8080/"
        },
        "id": "1GSJ4Fgdhpty",
        "outputId": "4509bb1d-79b7-40cf-acaa-5759c4c0ce5e"
      },
      "execution_count": null,
      "outputs": [
        {
          "output_type": "execute_result",
          "data": {
            "text/plain": [
              "['The Predator', 'The Reaper']"
            ]
          },
          "metadata": {},
          "execution_count": 38
        }
      ]
    },
    {
      "cell_type": "code",
      "source": [
        "dark_verse.append(\"The Emperor\")\n",
        "dark_verse"
      ],
      "metadata": {
        "colab": {
          "base_uri": "https://localhost:8080/"
        },
        "id": "nf9ha816h0Ck",
        "outputId": "5223bb27-7b3a-4c85-8caf-3655960d2da2"
      },
      "execution_count": null,
      "outputs": [
        {
          "output_type": "execute_result",
          "data": {
            "text/plain": [
              "['The Predator', 'The Reaper', 'The Emperor']"
            ]
          },
          "metadata": {},
          "execution_count": 39
        }
      ]
    },
    {
      "cell_type": "code",
      "source": [
        "dark_verse.append(\"The Finisher\")\n",
        "dark_verse"
      ],
      "metadata": {
        "colab": {
          "base_uri": "https://localhost:8080/"
        },
        "id": "w3ucHfImi-nd",
        "outputId": "bc7894d9-77c7-45d0-c770-6d872c1cfc00"
      },
      "execution_count": null,
      "outputs": [
        {
          "output_type": "execute_result",
          "data": {
            "text/plain": [
              "['The Predator', 'The Reaper', 'The Emperor', 'The Finisher']"
            ]
          },
          "metadata": {},
          "execution_count": 40
        }
      ]
    },
    {
      "cell_type": "code",
      "source": [
        "dark_verse.append(\"The Annihilator\")\n",
        "dark_verse"
      ],
      "metadata": {
        "colab": {
          "base_uri": "https://localhost:8080/"
        },
        "id": "xRo_yO4VjfEv",
        "outputId": "e54c38b5-35cd-4dd0-9283-b621e52ad1b7"
      },
      "execution_count": null,
      "outputs": [
        {
          "output_type": "execute_result",
          "data": {
            "text/plain": [
              "['The Predator',\n",
              " 'The Reaper',\n",
              " 'The Emperor',\n",
              " 'The Finisher',\n",
              " 'The Annihilator']"
            ]
          },
          "metadata": {},
          "execution_count": 41
        }
      ]
    },
    {
      "cell_type": "code",
      "source": [
        "dark_verse.append(\"The Syndicater\")\n",
        "dark_verse"
      ],
      "metadata": {
        "colab": {
          "base_uri": "https://localhost:8080/"
        },
        "id": "JHw69Zpejk87",
        "outputId": "06f63ca4-953e-48c6-ee89-2d7f51e9070d"
      },
      "execution_count": null,
      "outputs": [
        {
          "output_type": "execute_result",
          "data": {
            "text/plain": [
              "['The Predator',\n",
              " 'The Reaper',\n",
              " 'The Emperor',\n",
              " 'The Finisher',\n",
              " 'The Annihilator',\n",
              " 'The Syndicater']"
            ]
          },
          "metadata": {},
          "execution_count": 42
        }
      ]
    },
    {
      "cell_type": "markdown",
      "source": [
        "#2. .insert allows us to insert a specified value at a specified position.\n",
        "\n",
        "#Example:"
      ],
      "metadata": {
        "id": "XsS_UZk9kTdV"
      }
    },
    {
      "cell_type": "code",
      "source": [
        "flowers"
      ],
      "metadata": {
        "colab": {
          "base_uri": "https://localhost:8080/"
        },
        "id": "PeOJslLskxWW",
        "outputId": "9afa0918-84b3-4723-c29a-974f69813c1d"
      },
      "execution_count": null,
      "outputs": [
        {
          "output_type": "execute_result",
          "data": {
            "text/plain": [
              "['Roses',\n",
              " 'Hyaciths',\n",
              " 'Hydrangeas',\n",
              " 'Lilies',\n",
              " 'Orchids',\n",
              " 'Jasmines',\n",
              " 'Plumerias',\n",
              " 'Lotus',\n",
              " 'Sunflowers']"
            ]
          },
          "metadata": {},
          "execution_count": 43
        }
      ]
    },
    {
      "cell_type": "code",
      "source": [
        "flowers.insert(2, \"Carnations\") #inserts 'Carnations' at index 2\n",
        "flowers"
      ],
      "metadata": {
        "colab": {
          "base_uri": "https://localhost:8080/"
        },
        "id": "TAmPw39WlB7r",
        "outputId": "45088484-e525-49a1-ced0-a517cf958955"
      },
      "execution_count": null,
      "outputs": [
        {
          "output_type": "execute_result",
          "data": {
            "text/plain": [
              "['Roses',\n",
              " 'Hyaciths',\n",
              " 'Carnations',\n",
              " 'Hydrangeas',\n",
              " 'Lilies',\n",
              " 'Orchids',\n",
              " 'Jasmines',\n",
              " 'Plumerias',\n",
              " 'Lotus',\n",
              " 'Sunflowers']"
            ]
          },
          "metadata": {},
          "execution_count": 44
        }
      ]
    },
    {
      "cell_type": "code",
      "source": [
        "weapons"
      ],
      "metadata": {
        "colab": {
          "base_uri": "https://localhost:8080/"
        },
        "id": "y8UQU7sBlTyu",
        "outputId": "80da46d5-2f5a-4871-ae15-372880473793"
      },
      "execution_count": null,
      "outputs": [
        {
          "output_type": "execute_result",
          "data": {
            "text/plain": [
              "['Revolvers',\n",
              " 'Knifes',\n",
              " 'Daggers',\n",
              " 'Bullets',\n",
              " 'Poisons',\n",
              " 'Swords',\n",
              " 'Rifles',\n",
              " 'Flamethrower']"
            ]
          },
          "metadata": {},
          "execution_count": 45
        }
      ]
    },
    {
      "cell_type": "code",
      "source": [
        "weapons.insert(5, \"Pistols\") #inserts 'Pistols' at index 5\n",
        "weapons"
      ],
      "metadata": {
        "colab": {
          "base_uri": "https://localhost:8080/"
        },
        "id": "PsdOnooQlVgr",
        "outputId": "31392463-c7cf-46b8-e420-0d03ef4c2f01"
      },
      "execution_count": null,
      "outputs": [
        {
          "output_type": "execute_result",
          "data": {
            "text/plain": [
              "['Revolvers',\n",
              " 'Knifes',\n",
              " 'Daggers',\n",
              " 'Bullets',\n",
              " 'Poisons',\n",
              " 'Pistols',\n",
              " 'Swords',\n",
              " 'Rifles',\n",
              " 'Flamethrower']"
            ]
          },
          "metadata": {},
          "execution_count": 46
        }
      ]
    },
    {
      "cell_type": "markdown",
      "source": [
        "#3. .extend adds the specified list elements at the end of the already existent list.\n",
        "\n",
        "Example:"
      ],
      "metadata": {
        "id": "rq1-qfcllfhE"
      }
    },
    {
      "cell_type": "code",
      "source": [
        "list"
      ],
      "metadata": {
        "colab": {
          "base_uri": "https://localhost:8080/"
        },
        "id": "TQcwzBf7mNt_",
        "outputId": "3f83cb27-3f37-47cd-f98a-3dab5dc9c72d"
      },
      "execution_count": null,
      "outputs": [
        {
          "output_type": "execute_result",
          "data": {
            "text/plain": [
              "['Gels', 'Lotions', 'Creams', 1, 24, 99.99, True, False, (4+7j)]"
            ]
          },
          "metadata": {},
          "execution_count": 30
        }
      ]
    },
    {
      "cell_type": "code",
      "source": [
        "list1"
      ],
      "metadata": {
        "colab": {
          "base_uri": "https://localhost:8080/"
        },
        "id": "duNJUy8umVCc",
        "outputId": "495052ea-956d-4fea-bcca-642283544b43"
      },
      "execution_count": null,
      "outputs": [
        {
          "output_type": "execute_result",
          "data": {
            "text/plain": [
              "[True, 255, 7.99, 'Water', 'Fire', (9+10j)]"
            ]
          },
          "metadata": {},
          "execution_count": 48
        }
      ]
    },
    {
      "cell_type": "code",
      "source": [
        "list.extend(list1) #adds list1 elements at the end of list\n",
        "list"
      ],
      "metadata": {
        "colab": {
          "base_uri": "https://localhost:8080/"
        },
        "id": "uNjnR6IOmXUr",
        "outputId": "5021080b-0751-4ea1-c821-e169c3162b62"
      },
      "execution_count": null,
      "outputs": [
        {
          "output_type": "execute_result",
          "data": {
            "text/plain": [
              "['Gels',\n",
              " 'Lotions',\n",
              " 'Creams',\n",
              " 1,\n",
              " 24,\n",
              " 99.99,\n",
              " True,\n",
              " False,\n",
              " (4+7j),\n",
              " True,\n",
              " 255,\n",
              " 7.99,\n",
              " 'Water',\n",
              " 'Fire',\n",
              " (9+10j)]"
            ]
          },
          "metadata": {},
          "execution_count": 49
        }
      ]
    },
    {
      "cell_type": "code",
      "source": [
        "list1.extend(list) #adds list elements at the end of list1\n",
        "list1"
      ],
      "metadata": {
        "colab": {
          "base_uri": "https://localhost:8080/"
        },
        "id": "DupXAlhLmdtb",
        "outputId": "64b0c8be-13b6-4fea-c733-ab0d909e596a"
      },
      "execution_count": null,
      "outputs": [
        {
          "output_type": "execute_result",
          "data": {
            "text/plain": [
              "[True,\n",
              " 255,\n",
              " 7.99,\n",
              " 'Water',\n",
              " 'Fire',\n",
              " (9+10j),\n",
              " 'Gels',\n",
              " 'Lotions',\n",
              " 'Creams',\n",
              " 1,\n",
              " 24,\n",
              " 99.99,\n",
              " True,\n",
              " False,\n",
              " (4+7j),\n",
              " True,\n",
              " 255,\n",
              " 7.99,\n",
              " 'Water',\n",
              " 'Fire',\n",
              " (9+10j)]"
            ]
          },
          "metadata": {},
          "execution_count": 50
        }
      ]
    },
    {
      "cell_type": "markdown",
      "source": [
        "#4. Concatenation(Adding 2 lists)\n",
        "\n",
        "#Example:"
      ],
      "metadata": {
        "id": "tnrw27qLmzAA"
      }
    },
    {
      "cell_type": "code",
      "source": [
        "weapons + flowers #adds the 2 lists without changing the original lists"
      ],
      "metadata": {
        "colab": {
          "base_uri": "https://localhost:8080/"
        },
        "id": "j-E1Udozm8Y6",
        "outputId": "2aed638e-074b-47bd-9f38-ac82c444b1b6"
      },
      "execution_count": null,
      "outputs": [
        {
          "output_type": "execute_result",
          "data": {
            "text/plain": [
              "['Revolvers',\n",
              " 'Knifes',\n",
              " 'Daggers',\n",
              " 'Bullets',\n",
              " 'Poisons',\n",
              " 'Pistols',\n",
              " 'Swords',\n",
              " 'Rifles',\n",
              " 'Flamethrower',\n",
              " 'Roses',\n",
              " 'Hyaciths',\n",
              " 'Carnations',\n",
              " 'Hydrangeas',\n",
              " 'Lilies',\n",
              " 'Orchids',\n",
              " 'Jasmines',\n",
              " 'Plumerias',\n",
              " 'Lotus',\n",
              " 'Sunflowers']"
            ]
          },
          "metadata": {},
          "execution_count": 51
        }
      ]
    },
    {
      "cell_type": "code",
      "source": [
        "flowers + weapons"
      ],
      "metadata": {
        "colab": {
          "base_uri": "https://localhost:8080/"
        },
        "id": "WAK9P_RfnDJ8",
        "outputId": "83ef77eb-d14b-4ac5-b57e-27702a59c9f0"
      },
      "execution_count": null,
      "outputs": [
        {
          "output_type": "execute_result",
          "data": {
            "text/plain": [
              "['Roses',\n",
              " 'Hyaciths',\n",
              " 'Carnations',\n",
              " 'Hydrangeas',\n",
              " 'Lilies',\n",
              " 'Orchids',\n",
              " 'Jasmines',\n",
              " 'Plumerias',\n",
              " 'Lotus',\n",
              " 'Sunflowers',\n",
              " 'Revolvers',\n",
              " 'Knifes',\n",
              " 'Daggers',\n",
              " 'Bullets',\n",
              " 'Poisons',\n",
              " 'Pistols',\n",
              " 'Swords',\n",
              " 'Rifles',\n",
              " 'Flamethrower']"
            ]
          },
          "metadata": {},
          "execution_count": 52
        }
      ]
    },
    {
      "cell_type": "markdown",
      "source": [
        "#5. Repetition:\n",
        "This helps us to repeat an element and execute until the specified number of times.\n",
        "\n",
        "#Example:"
      ],
      "metadata": {
        "id": "zt3hpyCPbOay"
      }
    },
    {
      "cell_type": "code",
      "source": [
        "\"_\" * 70"
      ],
      "metadata": {
        "colab": {
          "base_uri": "https://localhost:8080/",
          "height": 36
        },
        "id": "vRBKhvJVcEpi",
        "outputId": "e239823d-1c89-4f60-cc5d-6849d3ea0e15"
      },
      "execution_count": null,
      "outputs": [
        {
          "output_type": "execute_result",
          "data": {
            "text/plain": [
              "'______________________________________________________________________'"
            ],
            "application/vnd.google.colaboratory.intrinsic+json": {
              "type": "string"
            }
          },
          "metadata": {},
          "execution_count": 14
        }
      ]
    },
    {
      "cell_type": "code",
      "source": [
        "\"-\" * 45"
      ],
      "metadata": {
        "colab": {
          "base_uri": "https://localhost:8080/",
          "height": 36
        },
        "id": "ztRIEFwWcbkV",
        "outputId": "048151c0-7628-4bb0-fa13-3e263c52ffd8"
      },
      "execution_count": null,
      "outputs": [
        {
          "output_type": "execute_result",
          "data": {
            "text/plain": [
              "'---------------------------------------------'"
            ],
            "application/vnd.google.colaboratory.intrinsic+json": {
              "type": "string"
            }
          },
          "metadata": {},
          "execution_count": 15
        }
      ]
    },
    {
      "cell_type": "code",
      "source": [
        "\"*\" * 20"
      ],
      "metadata": {
        "colab": {
          "base_uri": "https://localhost:8080/",
          "height": 36
        },
        "id": "oB8uhETccjBv",
        "outputId": "66a04efc-138e-4fdf-e102-0fe786f5bda8"
      },
      "execution_count": null,
      "outputs": [
        {
          "output_type": "execute_result",
          "data": {
            "text/plain": [
              "'********************'"
            ],
            "application/vnd.google.colaboratory.intrinsic+json": {
              "type": "string"
            }
          },
          "metadata": {},
          "execution_count": 16
        }
      ]
    },
    {
      "cell_type": "code",
      "source": [
        "list(range(10)) * 2"
      ],
      "metadata": {
        "colab": {
          "base_uri": "https://localhost:8080/"
        },
        "id": "vrBheCaZcmk8",
        "outputId": "ecdf9e3b-1ac5-43bb-e5c6-852c94acf623"
      },
      "execution_count": null,
      "outputs": [
        {
          "output_type": "execute_result",
          "data": {
            "text/plain": [
              "[0, 1, 2, 3, 4, 5, 6, 7, 8, 9, 0, 1, 2, 3, 4, 5, 6, 7, 8, 9]"
            ]
          },
          "metadata": {},
          "execution_count": 22
        }
      ]
    },
    {
      "cell_type": "markdown",
      "source": [
        "#6. Sorted list:\n",
        "This is used to sort elements in alphabetical order or an ascending list without changing the original list.\n",
        "\n",
        "#Example:"
      ],
      "metadata": {
        "id": "zKjDVBoPk8Z5"
      }
    },
    {
      "cell_type": "code",
      "source": [
        "weapons"
      ],
      "metadata": {
        "colab": {
          "base_uri": "https://localhost:8080/"
        },
        "id": "LT3QV-ryfBJo",
        "outputId": "edcbcc32-d27b-4d4d-d094-712b6bc88772"
      },
      "execution_count": null,
      "outputs": [
        {
          "output_type": "execute_result",
          "data": {
            "text/plain": [
              "['Pistols',\n",
              " 'Knifes',\n",
              " 'Daggers',\n",
              " 'Bullets',\n",
              " 'Poisons',\n",
              " 'Swords',\n",
              " 'Rifles',\n",
              " 'Bows and arrows']"
            ]
          },
          "metadata": {},
          "execution_count": 23
        }
      ]
    },
    {
      "cell_type": "code",
      "source": [
        "sorted(weapons) #sorts the list in alphabetical order"
      ],
      "metadata": {
        "colab": {
          "base_uri": "https://localhost:8080/"
        },
        "id": "QWZlQZBtm-HG",
        "outputId": "de51484b-8031-4fb6-c3ee-f94b6ac67660"
      },
      "execution_count": null,
      "outputs": [
        {
          "output_type": "execute_result",
          "data": {
            "text/plain": [
              "['Bows and arrows',\n",
              " 'Bullets',\n",
              " 'Daggers',\n",
              " 'Knifes',\n",
              " 'Pistols',\n",
              " 'Poisons',\n",
              " 'Rifles',\n",
              " 'Swords']"
            ]
          },
          "metadata": {},
          "execution_count": 24
        }
      ]
    },
    {
      "cell_type": "code",
      "source": [
        "listie = [2, 6, 3, 10, 120, 30, 65.10, 76.99, 20, 8.9]\n",
        "sorted(listie)"
      ],
      "metadata": {
        "colab": {
          "base_uri": "https://localhost:8080/"
        },
        "id": "QOjohwGNnZR6",
        "outputId": "daad174b-ef9d-4e1d-c2fb-9635468ee681"
      },
      "execution_count": null,
      "outputs": [
        {
          "output_type": "execute_result",
          "data": {
            "text/plain": [
              "[2, 3, 6, 8.9, 10, 20, 30, 65.1, 76.99, 120]"
            ]
          },
          "metadata": {},
          "execution_count": 35
        }
      ]
    },
    {
      "cell_type": "markdown",
      "source": [
        "#7. len:\n",
        "'len' is used to know the number of elements in a list.\n",
        "\n",
        "#Example:"
      ],
      "metadata": {
        "id": "zCr5c8UppwUV"
      }
    },
    {
      "cell_type": "code",
      "source": [
        "weapons"
      ],
      "metadata": {
        "colab": {
          "base_uri": "https://localhost:8080/"
        },
        "id": "PxfSrdIEnw1g",
        "outputId": "eef188a8-fed8-4e89-b6fa-d9af7631372d"
      },
      "execution_count": null,
      "outputs": [
        {
          "output_type": "execute_result",
          "data": {
            "text/plain": [
              "['Pistols',\n",
              " 'Knifes',\n",
              " 'Daggers',\n",
              " 'Bullets',\n",
              " 'Poisons',\n",
              " 'Swords',\n",
              " 'Rifles',\n",
              " 'Bows and arrows']"
            ]
          },
          "metadata": {},
          "execution_count": 36
        }
      ]
    },
    {
      "cell_type": "code",
      "source": [
        "len(weapons) #shows the number of elements in the list"
      ],
      "metadata": {
        "colab": {
          "base_uri": "https://localhost:8080/"
        },
        "id": "_1-idNXDp_Lj",
        "outputId": "6f92576c-34c2-4085-ee3f-d4a860945405"
      },
      "execution_count": null,
      "outputs": [
        {
          "output_type": "execute_result",
          "data": {
            "text/plain": [
              "8"
            ]
          },
          "metadata": {},
          "execution_count": 37
        }
      ]
    },
    {
      "cell_type": "code",
      "source": [
        "flowers"
      ],
      "metadata": {
        "colab": {
          "base_uri": "https://localhost:8080/"
        },
        "id": "JE_ynEBiqCpz",
        "outputId": "ead586e9-21cf-4b57-8f0d-94482d965dbc"
      },
      "execution_count": null,
      "outputs": [
        {
          "output_type": "execute_result",
          "data": {
            "text/plain": [
              "['Roses',\n",
              " 'Hyaciths',\n",
              " 'Hydrangeas',\n",
              " 'Lilies',\n",
              " 'Orchids',\n",
              " 'Jasmines',\n",
              " 'Plumerias',\n",
              " 'Lotus',\n",
              " 'Sunflowers']"
            ]
          },
          "metadata": {},
          "execution_count": 40
        }
      ]
    },
    {
      "cell_type": "code",
      "source": [
        "len(flowers)"
      ],
      "metadata": {
        "colab": {
          "base_uri": "https://localhost:8080/"
        },
        "id": "DnzLM4oDqJzD",
        "outputId": "7a7c490c-3059-45bb-9381-1ac616daca86"
      },
      "execution_count": null,
      "outputs": [
        {
          "output_type": "execute_result",
          "data": {
            "text/plain": [
              "9"
            ]
          },
          "metadata": {},
          "execution_count": 41
        }
      ]
    },
    {
      "cell_type": "markdown",
      "source": [
        "#8. .count:\n",
        ".count shows the number of times a specified value appears in the string.\n",
        "\n",
        "#Example:"
      ],
      "metadata": {
        "id": "PnIJ5aOkqN9C"
      }
    },
    {
      "cell_type": "code",
      "source": [
        "listieee = [1, 2, 3, 3, 4, 5, 6, 6, 7, 8, 9]\n",
        "listieee"
      ],
      "metadata": {
        "colab": {
          "base_uri": "https://localhost:8080/"
        },
        "id": "2fpWckuyqa-g",
        "outputId": "ab450851-df2f-4996-edcc-40a833d2d8b4"
      },
      "execution_count": null,
      "outputs": [
        {
          "output_type": "execute_result",
          "data": {
            "text/plain": [
              "[1, 2, 3, 3, 4, 5, 6, 6, 7, 8, 9]"
            ]
          },
          "metadata": {},
          "execution_count": 43
        }
      ]
    },
    {
      "cell_type": "code",
      "source": [
        "listieee.count(3) #shows the number of times 3 appears in the list"
      ],
      "metadata": {
        "colab": {
          "base_uri": "https://localhost:8080/"
        },
        "id": "8DZ2Bb6xq30N",
        "outputId": "841c4918-f2e1-4b4d-dbbb-e12b19c64498"
      },
      "execution_count": null,
      "outputs": [
        {
          "output_type": "execute_result",
          "data": {
            "text/plain": [
              "2"
            ]
          },
          "metadata": {},
          "execution_count": 44
        }
      ]
    },
    {
      "cell_type": "code",
      "source": [
        "listieee.count(9)"
      ],
      "metadata": {
        "colab": {
          "base_uri": "https://localhost:8080/"
        },
        "id": "fGdNluN7q-QP",
        "outputId": "5e94b027-2872-4e26-8871-6cc340b48a22"
      },
      "execution_count": null,
      "outputs": [
        {
          "output_type": "execute_result",
          "data": {
            "text/plain": [
              "1"
            ]
          },
          "metadata": {},
          "execution_count": 45
        }
      ]
    },
    {
      "cell_type": "code",
      "source": [
        "books_list = [\"Atomic Habits\", \"48 laws of Power\", \"48 laws of Power\", \"Ikigai\", \"Ikigai\", \"Ikigai\", \"How to talk to anyone\", \"Mughal empire\", \"Mughal empire\", \"How to stop worrying and start living\"]\n",
        "books_list"
      ],
      "metadata": {
        "colab": {
          "base_uri": "https://localhost:8080/"
        },
        "id": "863ZjEAsrCiy",
        "outputId": "d890381d-6fb6-4915-aaac-3c25a5ed7473"
      },
      "execution_count": null,
      "outputs": [
        {
          "output_type": "execute_result",
          "data": {
            "text/plain": [
              "['Atomic Habits',\n",
              " '48 laws of Power',\n",
              " '48 laws of Power',\n",
              " 'Ikigai',\n",
              " 'Ikigai',\n",
              " 'Ikigai',\n",
              " 'How to talk to anyone',\n",
              " 'Mughal empire',\n",
              " 'Mughal empire',\n",
              " 'How to stop worrying and start living']"
            ]
          },
          "metadata": {},
          "execution_count": 47
        }
      ]
    },
    {
      "cell_type": "code",
      "source": [
        "books_list.count(\"Ikigai\")"
      ],
      "metadata": {
        "colab": {
          "base_uri": "https://localhost:8080/"
        },
        "id": "sFqmzLG3sMA_",
        "outputId": "df56f475-6de5-4a80-8a39-e15ade462426"
      },
      "execution_count": null,
      "outputs": [
        {
          "output_type": "execute_result",
          "data": {
            "text/plain": [
              "3"
            ]
          },
          "metadata": {},
          "execution_count": 48
        }
      ]
    },
    {
      "cell_type": "code",
      "source": [
        "books_list.count(\"Mughal empire\")"
      ],
      "metadata": {
        "colab": {
          "base_uri": "https://localhost:8080/"
        },
        "id": "7UHyBUtYsQ6F",
        "outputId": "edf52a3e-eef7-4de6-bd55-7ab59a93cf14"
      },
      "execution_count": null,
      "outputs": [
        {
          "output_type": "execute_result",
          "data": {
            "text/plain": [
              "2"
            ]
          },
          "metadata": {},
          "execution_count": 49
        }
      ]
    },
    {
      "cell_type": "code",
      "source": [
        "books_list.count(\"48 laws of Power\")"
      ],
      "metadata": {
        "colab": {
          "base_uri": "https://localhost:8080/"
        },
        "id": "5SFiY6vbsSvr",
        "outputId": "0b42cbff-0d41-4480-8efd-a8606202fda8"
      },
      "execution_count": null,
      "outputs": [
        {
          "output_type": "execute_result",
          "data": {
            "text/plain": [
              "2"
            ]
          },
          "metadata": {},
          "execution_count": 50
        }
      ]
    },
    {
      "cell_type": "code",
      "source": [
        "books_list.count(\"Atomic Habits\")"
      ],
      "metadata": {
        "colab": {
          "base_uri": "https://localhost:8080/"
        },
        "id": "5y0Md4nBsVF2",
        "outputId": "919590a1-0d4f-45ac-a19b-3726f14fb2a6"
      },
      "execution_count": null,
      "outputs": [
        {
          "output_type": "execute_result",
          "data": {
            "text/plain": [
              "1"
            ]
          },
          "metadata": {},
          "execution_count": 51
        }
      ]
    },
    {
      "cell_type": "markdown",
      "source": [
        "#9. pop():\n",
        "pop removes the element at the specified position.\n",
        "\n",
        "#Example:\n"
      ],
      "metadata": {
        "id": "usYVk0kr4-mH"
      }
    },
    {
      "cell_type": "code",
      "source": [
        "books_list"
      ],
      "metadata": {
        "colab": {
          "base_uri": "https://localhost:8080/"
        },
        "id": "AovovBX35OyH",
        "outputId": "a61a2053-71a4-47de-eb5c-cb91aab258f4"
      },
      "execution_count": null,
      "outputs": [
        {
          "output_type": "execute_result",
          "data": {
            "text/plain": [
              "['Atomic Habits',\n",
              " '48 laws of Power',\n",
              " '48 laws of Power',\n",
              " 'Ikigai',\n",
              " 'Ikigai',\n",
              " 'Ikigai',\n",
              " 'How to talk to anyone',\n",
              " 'Mughal empire',\n",
              " 'Mughal empire',\n",
              " 'How to stop worrying and start living']"
            ]
          },
          "metadata": {},
          "execution_count": 73
        }
      ]
    },
    {
      "cell_type": "code",
      "source": [
        "books_list.pop(0) #removes the first index\n",
        "books_list"
      ],
      "metadata": {
        "colab": {
          "base_uri": "https://localhost:8080/"
        },
        "id": "eXB2yb3_5SS9",
        "outputId": "caafee9f-7fdd-465b-d641-20be8788a01b"
      },
      "execution_count": null,
      "outputs": [
        {
          "output_type": "execute_result",
          "data": {
            "text/plain": [
              "['48 laws of Power',\n",
              " '48 laws of Power',\n",
              " 'Ikigai',\n",
              " 'Ikigai',\n",
              " 'Ikigai',\n",
              " 'How to talk to anyone',\n",
              " 'Mughal empire',\n",
              " 'Mughal empire',\n",
              " 'How to stop worrying and start living']"
            ]
          },
          "metadata": {},
          "execution_count": 78
        }
      ]
    },
    {
      "cell_type": "code",
      "source": [
        "books_list.pop() #removes last index\n",
        "books_list"
      ],
      "metadata": {
        "colab": {
          "base_uri": "https://localhost:8080/"
        },
        "id": "hneRa73P6nU_",
        "outputId": "7d19b48d-e7db-4da8-abd7-8b916d182f6d"
      },
      "execution_count": null,
      "outputs": [
        {
          "output_type": "execute_result",
          "data": {
            "text/plain": [
              "['48 laws of Power',\n",
              " '48 laws of Power',\n",
              " 'Ikigai',\n",
              " 'Ikigai',\n",
              " 'Ikigai',\n",
              " 'How to talk to anyone',\n",
              " 'Mughal empire',\n",
              " 'Mughal empire']"
            ]
          },
          "metadata": {},
          "execution_count": 79
        }
      ]
    },
    {
      "cell_type": "markdown",
      "source": [
        "#3. DELETION:\n",
        "Lists can be deleted, cleared and elements in lists can be removed using the below functions.\n",
        "\n",
        "#1. .remove:\n",
        "This function removes the speecified element.\n",
        "\n",
        "#Example:\n",
        "\n"
      ],
      "metadata": {
        "id": "3xEPWAlZsYLi"
      }
    },
    {
      "cell_type": "code",
      "source": [
        "novels = [\"Peer-e-kamil\", \"Kite runner\", \"Harry potter\", \"Twilight\", \"Pride and Prejudice\", \"Gone with the wind\", \"Jannat ke pattay\"]\n",
        "novels"
      ],
      "metadata": {
        "colab": {
          "base_uri": "https://localhost:8080/"
        },
        "id": "86Yf7JRSwF3H",
        "outputId": "b6711f2e-9c00-413c-e4af-82f4eafd1476"
      },
      "execution_count": null,
      "outputs": [
        {
          "output_type": "execute_result",
          "data": {
            "text/plain": [
              "['Peer-e-kamil',\n",
              " 'Kite runner',\n",
              " 'Harry potter',\n",
              " 'Twilight',\n",
              " 'Pride and Prejudice',\n",
              " 'Gone with the wind',\n",
              " 'Jannat ke pattay']"
            ]
          },
          "metadata": {},
          "execution_count": 68
        }
      ]
    },
    {
      "cell_type": "code",
      "source": [
        "novels.remove(\"Gone with the wind\") #removes 'Gone with the wind'\n",
        "novels"
      ],
      "metadata": {
        "colab": {
          "base_uri": "https://localhost:8080/"
        },
        "id": "pd0yc4VowvSE",
        "outputId": "1c27d16a-b324-4432-8496-f6b17e339f77"
      },
      "execution_count": null,
      "outputs": [
        {
          "output_type": "execute_result",
          "data": {
            "text/plain": [
              "['Peer-e-kamil',\n",
              " 'Kite runner',\n",
              " 'Harry potter',\n",
              " 'Twilight',\n",
              " 'Pride and Prejudice',\n",
              " 'Jannat ke pattay']"
            ]
          },
          "metadata": {},
          "execution_count": 69
        }
      ]
    },
    {
      "cell_type": "markdown",
      "source": [
        "#2. .clear:\n",
        "This function is used to clear the whole list. Only the variables remain.\n",
        "\n",
        "#Example:"
      ],
      "metadata": {
        "id": "sOuFthDzw9VL"
      }
    },
    {
      "cell_type": "code",
      "source": [
        "novels.clear() #clears the list and returns an empty list\n",
        "novels"
      ],
      "metadata": {
        "colab": {
          "base_uri": "https://localhost:8080/"
        },
        "id": "7rOl2sXHw8PS",
        "outputId": "984da095-dba2-49e6-92dd-7f464cdad8a7"
      },
      "execution_count": null,
      "outputs": [
        {
          "output_type": "execute_result",
          "data": {
            "text/plain": [
              "[]"
            ]
          },
          "metadata": {},
          "execution_count": 70
        }
      ]
    },
    {
      "cell_type": "markdown",
      "source": [
        "#3. .del:\n",
        "This function is used to delete the complete list.\n",
        "\n",
        "#Example:"
      ],
      "metadata": {
        "id": "uWLF7FS0xPGi"
      }
    },
    {
      "cell_type": "code",
      "source": [
        "del novels #deletes the list and when executed shows an error\n",
        "novels"
      ],
      "metadata": {
        "colab": {
          "base_uri": "https://localhost:8080/",
          "height": 163
        },
        "id": "1plxIhD9y1iw",
        "outputId": "3ebe6ea7-d152-426b-c0e7-7ba508706149"
      },
      "execution_count": null,
      "outputs": [
        {
          "output_type": "error",
          "ename": "NameError",
          "evalue": "name 'novels' is not defined",
          "traceback": [
            "\u001b[0;31m---------------------------------------------------------------------------\u001b[0m",
            "\u001b[0;31mNameError\u001b[0m                                 Traceback (most recent call last)",
            "\u001b[0;32m<ipython-input-72-6c42a5d65283>\u001b[0m in \u001b[0;36m<cell line: 1>\u001b[0;34m()\u001b[0m\n\u001b[0;32m----> 1\u001b[0;31m \u001b[0;32mdel\u001b[0m \u001b[0mnovels\u001b[0m \u001b[0;31m#deletes the list and when executed shows an error\u001b[0m\u001b[0;34m\u001b[0m\u001b[0;34m\u001b[0m\u001b[0m\n\u001b[0m\u001b[1;32m      2\u001b[0m \u001b[0mnovels\u001b[0m\u001b[0;34m\u001b[0m\u001b[0;34m\u001b[0m\u001b[0m\n",
            "\u001b[0;31mNameError\u001b[0m: name 'novels' is not defined"
          ]
        }
      ]
    },
    {
      "cell_type": "markdown",
      "source": [
        "#**4. Compare and contrast tuples and lists with examples.**\n",
        "\n",
        "\n",
        "\n",
        "1. Lists are represented by square brackets[] whereas tuples are represented by parentheses().\n",
        "2. Lists are mutable and tuples are immutable.\n",
        "3. As lists are mutable there are many methods for modification like append(), remove(), pop(), sort().\n",
        "4. As tuples are immutable there are limited methods of modifcation such as count(), index().  \n",
        "5. Lists cannot be used as key in dictionaries but tuples can be used as key.\n",
        "6. Lists can be used for collections of items that may change over time such as user inputs or list objects.\n",
        "7. Tuples are suitable for fixed collections of items, like coordinates, configuration settings or sensitive identity cards.\n",
        "8. Both are heterogenouss and support element access.\n"
      ],
      "metadata": {
        "id": "bRScAJsdzbbv"
      }
    },
    {
      "cell_type": "markdown",
      "source": [
        "#1. Lists - [ ], Tuples - ( )\n",
        "\n",
        "#Example:"
      ],
      "metadata": {
        "id": "DEdUs4QHIFHi"
      }
    },
    {
      "cell_type": "code",
      "source": [
        "water = []\n",
        "type(water)"
      ],
      "metadata": {
        "colab": {
          "base_uri": "https://localhost:8080/"
        },
        "id": "FFJ-0JoCIH94",
        "outputId": "f3a2d8c6-cbe6-4002-b13c-a58c70caea63"
      },
      "execution_count": null,
      "outputs": [
        {
          "output_type": "execute_result",
          "data": {
            "text/plain": [
              "list"
            ]
          },
          "metadata": {},
          "execution_count": 82
        }
      ]
    },
    {
      "cell_type": "code",
      "source": [
        "fire = ()\n",
        "type(fire)"
      ],
      "metadata": {
        "colab": {
          "base_uri": "https://localhost:8080/"
        },
        "id": "kcsSpYObIbH3",
        "outputId": "d67f9204-c619-4772-d3e5-c5247cc016c7"
      },
      "execution_count": null,
      "outputs": [
        {
          "output_type": "execute_result",
          "data": {
            "text/plain": [
              "tuple"
            ]
          },
          "metadata": {},
          "execution_count": 83
        }
      ]
    },
    {
      "cell_type": "markdown",
      "source": [
        "#2. Mutability and immutability\n",
        " Lists - Mutable/can be modified\n",
        "\n",
        "Tuples - Immutable/cannot be modified\n",
        "\n",
        "#Example:"
      ],
      "metadata": {
        "id": "ddLy-9H3Ilt5"
      }
    },
    {
      "cell_type": "code",
      "source": [
        "list"
      ],
      "metadata": {
        "colab": {
          "base_uri": "https://localhost:8080/"
        },
        "id": "nC2jY_yaJBK6",
        "outputId": "64de833e-c098-415e-f73e-b4ca60573bbd"
      },
      "execution_count": null,
      "outputs": [
        {
          "output_type": "execute_result",
          "data": {
            "text/plain": [
              "['Gels', 'Lotions', 'Creams', 1, 24, 99.99, True, False, (4+7j)]"
            ]
          },
          "metadata": {},
          "execution_count": 84
        }
      ]
    },
    {
      "cell_type": "code",
      "source": [
        "list[0] = \"Water\" #lists are mutable\n",
        "list"
      ],
      "metadata": {
        "colab": {
          "base_uri": "https://localhost:8080/"
        },
        "id": "L08VjzCwJFB_",
        "outputId": "4e3ee480-22c2-4cd5-fcab-bacc904f92d6"
      },
      "execution_count": null,
      "outputs": [
        {
          "output_type": "execute_result",
          "data": {
            "text/plain": [
              "['Water', 'Lotions', 'Creams', 1, 24, 99.99, True, False, (4+7j)]"
            ]
          },
          "metadata": {},
          "execution_count": 85
        }
      ]
    },
    {
      "cell_type": "code",
      "source": [
        "cat = (\"Turkish van\", \"Rag doll\", \"Mainecoon\", \"Persian\")\n",
        "cat"
      ],
      "metadata": {
        "colab": {
          "base_uri": "https://localhost:8080/"
        },
        "id": "DBi1ugNOJKj3",
        "outputId": "a65b9d01-c4bf-4287-ac72-658e294a0998"
      },
      "execution_count": null,
      "outputs": [
        {
          "output_type": "execute_result",
          "data": {
            "text/plain": [
              "('Turkish van', 'Rag doll', 'Mainecoon', 'Persian')"
            ]
          },
          "metadata": {},
          "execution_count": 86
        }
      ]
    },
    {
      "cell_type": "code",
      "source": [
        "cat[0] = \"Siamese\" #tuples are immutable\n",
        "cat #an error is returned as tuples do not support item assignment"
      ],
      "metadata": {
        "colab": {
          "base_uri": "https://localhost:8080/",
          "height": 163
        },
        "id": "RuKazNIVJaBu",
        "outputId": "4eabe6bf-eee7-499c-c14c-d20c5fcc9500"
      },
      "execution_count": null,
      "outputs": [
        {
          "output_type": "error",
          "ename": "TypeError",
          "evalue": "'tuple' object does not support item assignment",
          "traceback": [
            "\u001b[0;31m---------------------------------------------------------------------------\u001b[0m",
            "\u001b[0;31mTypeError\u001b[0m                                 Traceback (most recent call last)",
            "\u001b[0;32m<ipython-input-87-f2985192b36b>\u001b[0m in \u001b[0;36m<cell line: 1>\u001b[0;34m()\u001b[0m\n\u001b[0;32m----> 1\u001b[0;31m \u001b[0mcat\u001b[0m\u001b[0;34m[\u001b[0m\u001b[0;36m0\u001b[0m\u001b[0;34m]\u001b[0m \u001b[0;34m=\u001b[0m \u001b[0;34m\"Siamese\"\u001b[0m \u001b[0;31m#tuples are immutable\u001b[0m\u001b[0;34m\u001b[0m\u001b[0;34m\u001b[0m\u001b[0m\n\u001b[0m\u001b[1;32m      2\u001b[0m \u001b[0mcat\u001b[0m\u001b[0;34m\u001b[0m\u001b[0;34m\u001b[0m\u001b[0m\n",
            "\u001b[0;31mTypeError\u001b[0m: 'tuple' object does not support item assignment"
          ]
        }
      ]
    },
    {
      "cell_type": "markdown",
      "source": [
        "#3. Methods of modification of list:\n",
        "\n",
        "\n",
        "\n",
        "* append()\n",
        "* pop()\n",
        "* remove()\n",
        "* sort()\n",
        "\n"
      ],
      "metadata": {
        "id": "v9t4JTcyJnOi"
      }
    },
    {
      "cell_type": "code",
      "source": [
        "list"
      ],
      "metadata": {
        "colab": {
          "base_uri": "https://localhost:8080/"
        },
        "id": "93LWXVp5LGyu",
        "outputId": "073fffb3-4b6d-423e-c74d-4b1b231ccad4"
      },
      "execution_count": null,
      "outputs": [
        {
          "output_type": "execute_result",
          "data": {
            "text/plain": [
              "['Water', 'Lotions', 'Creams', 1, 24, 99.99, True, False, (4+7j)]"
            ]
          },
          "metadata": {},
          "execution_count": 89
        }
      ]
    },
    {
      "cell_type": "code",
      "source": [
        "list.append(\"Fire\") #adds 'Fire' at the end of the list\n",
        "list"
      ],
      "metadata": {
        "colab": {
          "base_uri": "https://localhost:8080/"
        },
        "id": "SE-cgJYaLMdI",
        "outputId": "58a8ca80-e0d6-4362-c8b7-119c9bb17c50"
      },
      "execution_count": null,
      "outputs": [
        {
          "output_type": "execute_result",
          "data": {
            "text/plain": [
              "['Water', 'Lotions', 'Creams', 1, 24, 99.99, True, False, (4+7j), 'Fire']"
            ]
          },
          "metadata": {},
          "execution_count": 90
        }
      ]
    },
    {
      "cell_type": "code",
      "source": [
        "list.pop() #removes the last index\n",
        "list"
      ],
      "metadata": {
        "colab": {
          "base_uri": "https://localhost:8080/"
        },
        "id": "lok8S2JKLTb9",
        "outputId": "acf0eda4-edf6-4ddd-f579-97668875bf93"
      },
      "execution_count": null,
      "outputs": [
        {
          "output_type": "execute_result",
          "data": {
            "text/plain": [
              "['Water', 'Lotions', 'Creams', 1, 24, 99.99, True, False, (4+7j)]"
            ]
          },
          "metadata": {},
          "execution_count": 91
        }
      ]
    },
    {
      "cell_type": "code",
      "source": [
        "list.remove(4+7j) #removes the specified element\n",
        "list"
      ],
      "metadata": {
        "colab": {
          "base_uri": "https://localhost:8080/"
        },
        "id": "s_b1LTBkLb5y",
        "outputId": "104abdca-d82d-42e4-e0e0-9a10455f8579"
      },
      "execution_count": null,
      "outputs": [
        {
          "output_type": "execute_result",
          "data": {
            "text/plain": [
              "['Water', 'Lotions', 'Creams', 1, 24, 99.99, True, False]"
            ]
          },
          "metadata": {},
          "execution_count": 92
        }
      ]
    },
    {
      "cell_type": "code",
      "source": [
        "sorted(listie) #sorts the list in alphabetical order or ascending order by default\n",
        "listie"
      ],
      "metadata": {
        "colab": {
          "base_uri": "https://localhost:8080/"
        },
        "id": "S7pe-0pmLg1e",
        "outputId": "49ecd5ec-352d-4385-c63a-11c2c8cbca41"
      },
      "execution_count": null,
      "outputs": [
        {
          "output_type": "execute_result",
          "data": {
            "text/plain": [
              "[2, 6, 3, 10, 120, 30, 65.1, 76.99, 20, 8.9]"
            ]
          },
          "metadata": {},
          "execution_count": 96
        }
      ]
    },
    {
      "cell_type": "markdown",
      "source": [
        "#4. Tuples' immutability:\n",
        "Tuples can be accessed rather than modified.\n",
        "\n",
        "#Example:"
      ],
      "metadata": {
        "id": "dxG54wKDLyDj"
      }
    },
    {
      "cell_type": "code",
      "source": [
        "cat"
      ],
      "metadata": {
        "colab": {
          "base_uri": "https://localhost:8080/"
        },
        "id": "MeqOhwOwMf5A",
        "outputId": "2ca67fc2-f89e-4f94-8fe9-0c9335a2723b"
      },
      "execution_count": null,
      "outputs": [
        {
          "output_type": "execute_result",
          "data": {
            "text/plain": [
              "('Turkish van', 'Rag doll', 'Mainecoon', 'Persian')"
            ]
          },
          "metadata": {},
          "execution_count": 97
        }
      ]
    },
    {
      "cell_type": "code",
      "source": [
        "cat[0] #displays the first index"
      ],
      "metadata": {
        "colab": {
          "base_uri": "https://localhost:8080/",
          "height": 36
        },
        "id": "EIuqJ6WlMuQQ",
        "outputId": "f10d1ea7-76ff-4282-de51-e428db2cb03d"
      },
      "execution_count": null,
      "outputs": [
        {
          "output_type": "execute_result",
          "data": {
            "text/plain": [
              "'Turkish van'"
            ],
            "application/vnd.google.colaboratory.intrinsic+json": {
              "type": "string"
            }
          },
          "metadata": {},
          "execution_count": 99
        }
      ]
    },
    {
      "cell_type": "code",
      "source": [
        "cat.count(\"Rag doll\") #shows the number of times 'Rag doll' appears in the tuple"
      ],
      "metadata": {
        "colab": {
          "base_uri": "https://localhost:8080/"
        },
        "id": "1BXs5pyZMwjw",
        "outputId": "21907f14-0979-49f2-88b2-52e579c0f191"
      },
      "execution_count": null,
      "outputs": [
        {
          "output_type": "execute_result",
          "data": {
            "text/plain": [
              "1"
            ]
          },
          "metadata": {},
          "execution_count": 100
        }
      ]
    },
    {
      "cell_type": "code",
      "source": [
        "cat[0] = \"Siamese\" #tuples are immutable\n",
        "cat #this returns an error showing that tuples are indeed immutable"
      ],
      "metadata": {
        "colab": {
          "base_uri": "https://localhost:8080/",
          "height": 163
        },
        "id": "FSD8oquqM5l9",
        "outputId": "43a57707-4bc1-404a-d753-38b82aacb73e"
      },
      "execution_count": null,
      "outputs": [
        {
          "output_type": "error",
          "ename": "TypeError",
          "evalue": "'tuple' object does not support item assignment",
          "traceback": [
            "\u001b[0;31m---------------------------------------------------------------------------\u001b[0m",
            "\u001b[0;31mTypeError\u001b[0m                                 Traceback (most recent call last)",
            "\u001b[0;32m<ipython-input-101-659d075c1ec9>\u001b[0m in \u001b[0;36m<cell line: 1>\u001b[0;34m()\u001b[0m\n\u001b[0;32m----> 1\u001b[0;31m \u001b[0mcat\u001b[0m\u001b[0;34m[\u001b[0m\u001b[0;36m0\u001b[0m\u001b[0;34m]\u001b[0m \u001b[0;34m=\u001b[0m \u001b[0;34m\"Siamese\"\u001b[0m \u001b[0;31m#tuples are immutable\u001b[0m\u001b[0;34m\u001b[0m\u001b[0;34m\u001b[0m\u001b[0m\n\u001b[0m\u001b[1;32m      2\u001b[0m \u001b[0mcat\u001b[0m \u001b[0;31m#this returns an error showing that tuples are indeed immutable\u001b[0m\u001b[0;34m\u001b[0m\u001b[0;34m\u001b[0m\u001b[0m\n",
            "\u001b[0;31mTypeError\u001b[0m: 'tuple' object does not support item assignment"
          ]
        }
      ]
    },
    {
      "cell_type": "markdown",
      "source": [
        "#5. Lists, tuples and dictionaries\n",
        "Lists cannot be used as key in dictionaries but tuples can be used as key."
      ],
      "metadata": {
        "id": "21OdOW-HNObT"
      }
    },
    {
      "cell_type": "code",
      "source": [
        "my_dict = {[listieee]: \"Torn\"} #List cannot be used as key"
      ],
      "metadata": {
        "colab": {
          "base_uri": "https://localhost:8080/",
          "height": 145
        },
        "id": "QnKHsASaNFlq",
        "outputId": "86f4b4d1-d6a3-49eb-9e76-2aa8b6edfe54"
      },
      "execution_count": null,
      "outputs": [
        {
          "output_type": "error",
          "ename": "TypeError",
          "evalue": "unhashable type: 'list'",
          "traceback": [
            "\u001b[0;31m---------------------------------------------------------------------------\u001b[0m",
            "\u001b[0;31mTypeError\u001b[0m                                 Traceback (most recent call last)",
            "\u001b[0;32m<ipython-input-104-80b1a6f16e16>\u001b[0m in \u001b[0;36m<cell line: 1>\u001b[0;34m()\u001b[0m\n\u001b[0;32m----> 1\u001b[0;31m \u001b[0mmy_dict\u001b[0m \u001b[0;34m=\u001b[0m \u001b[0;34m{\u001b[0m\u001b[0;34m[\u001b[0m\u001b[0mlistieee\u001b[0m\u001b[0;34m]\u001b[0m\u001b[0;34m:\u001b[0m \u001b[0;34m\"Torn\"\u001b[0m\u001b[0;34m}\u001b[0m \u001b[0;31m#\u001b[0m\u001b[0;34m\u001b[0m\u001b[0;34m\u001b[0m\u001b[0m\n\u001b[0m",
            "\u001b[0;31mTypeError\u001b[0m: unhashable type: 'list'"
          ]
        }
      ]
    },
    {
      "cell_type": "code",
      "source": [
        "d = {(1, 2, 3): \"Flowers\"} #Tuple can be used as key\n",
        "d"
      ],
      "metadata": {
        "colab": {
          "base_uri": "https://localhost:8080/"
        },
        "id": "or3F4kjYNdne",
        "outputId": "4279b550-c1a3-4a9a-f3e9-a5a3b044ff94"
      },
      "execution_count": null,
      "outputs": [
        {
          "output_type": "execute_result",
          "data": {
            "text/plain": [
              "{(1, 2, 3): 'Flowers'}"
            ]
          },
          "metadata": {},
          "execution_count": 109
        }
      ]
    },
    {
      "cell_type": "markdown",
      "source": [
        "#6. Use case of list:\n",
        "Lists can be used for collections of items that may change over time such as user inputs or list objects.\n",
        "\n",
        "#Example:\n"
      ],
      "metadata": {
        "id": "6hF0iy9AOq4g"
      }
    },
    {
      "cell_type": "code",
      "source": [
        "numbers = [1, 2, 3, 4, 5]\n",
        "[num ** 2 for num in numbers] #squares the elements in the list"
      ],
      "metadata": {
        "colab": {
          "base_uri": "https://localhost:8080/"
        },
        "id": "eRrSMXWwP7Jl",
        "outputId": "133ed04e-976d-4b41-d83e-f72a2f711ba1"
      },
      "execution_count": null,
      "outputs": [
        {
          "output_type": "execute_result",
          "data": {
            "text/plain": [
              "[1, 4, 9, 16, 25]"
            ]
          },
          "metadata": {},
          "execution_count": 114
        }
      ]
    },
    {
      "cell_type": "code",
      "source": [
        "str11 = \"pwskillsassignment2.txt\"\n",
        "str11.split(\".\") #splits the string into a list"
      ],
      "metadata": {
        "colab": {
          "base_uri": "https://localhost:8080/"
        },
        "id": "gt1gMikJP9w6",
        "outputId": "5cb7e541-ee9e-4294-eb22-62cd04ff9d99"
      },
      "execution_count": null,
      "outputs": [
        {
          "output_type": "execute_result",
          "data": {
            "text/plain": [
              "['pwskillsassignment2', 'txt']"
            ]
          },
          "metadata": {},
          "execution_count": 117
        }
      ]
    },
    {
      "cell_type": "code",
      "source": [
        "file_name = [\"assignment2.txt\", \"assignment2.py\", \"assignment2.ipynb\", \"assignment2.docx\"]\n",
        "file_name"
      ],
      "metadata": {
        "colab": {
          "base_uri": "https://localhost:8080/"
        },
        "id": "E0Jh6EZPQiFb",
        "outputId": "b4d59930-9c14-4e1a-95b5-97cf20ab498f"
      },
      "execution_count": null,
      "outputs": [
        {
          "output_type": "execute_result",
          "data": {
            "text/plain": [
              "['assignment2.txt', 'assignment2.py', 'assignment2.ipynb', 'assignment2.docx']"
            ]
          },
          "metadata": {},
          "execution_count": 128
        }
      ]
    },
    {
      "cell_type": "code",
      "source": [
        "[file.split(\".\")[-1] for file in file_name]"
      ],
      "metadata": {
        "colab": {
          "base_uri": "https://localhost:8080/"
        },
        "id": "7DKDZCawRtvO",
        "outputId": "9bbd84a9-204c-4c6d-fd5f-a70f84d31801"
      },
      "execution_count": null,
      "outputs": [
        {
          "output_type": "execute_result",
          "data": {
            "text/plain": [
              "['txt', 'py', 'ipynb', 'docx']"
            ]
          },
          "metadata": {},
          "execution_count": 129
        }
      ]
    },
    {
      "cell_type": "markdown",
      "source": [
        "#7. Use case of tuple:\n",
        "Tuples are suitable for fixed collections of items, for data which shouldn't be modified like coordinates, configuration settings or sensitive identity cards.\n",
        "\n",
        "#Example:"
      ],
      "metadata": {
        "id": "a8eJCfmZU8wW"
      }
    },
    {
      "cell_type": "code",
      "source": [
        "student_id = (44111, 44112, 44113, 44114, 44115, 44116, 44117, 44118, 44119, 44120, 44115, 44113, 44120)\n",
        "student_id"
      ],
      "metadata": {
        "colab": {
          "base_uri": "https://localhost:8080/"
        },
        "id": "jo4RpPBvV3og",
        "outputId": "62c44fd9-7404-4e34-e4c2-91e24b97b381"
      },
      "execution_count": null,
      "outputs": [
        {
          "output_type": "execute_result",
          "data": {
            "text/plain": [
              "(44111,\n",
              " 44112,\n",
              " 44113,\n",
              " 44114,\n",
              " 44115,\n",
              " 44116,\n",
              " 44117,\n",
              " 44118,\n",
              " 44119,\n",
              " 44120,\n",
              " 44115,\n",
              " 44113,\n",
              " 44120)"
            ]
          },
          "metadata": {},
          "execution_count": 141
        }
      ]
    },
    {
      "cell_type": "code",
      "source": [
        "student_id.count(44113) #returns the number of times 44113 appears in the tuple"
      ],
      "metadata": {
        "colab": {
          "base_uri": "https://localhost:8080/"
        },
        "id": "-yGdxl0eZjfN",
        "outputId": "63a71c28-2442-42ab-ee11-13c5f72f8a32"
      },
      "execution_count": null,
      "outputs": [
        {
          "output_type": "execute_result",
          "data": {
            "text/plain": [
              "2"
            ]
          },
          "metadata": {},
          "execution_count": 142
        }
      ]
    },
    {
      "cell_type": "code",
      "source": [
        "student_id.count(44111)"
      ],
      "metadata": {
        "colab": {
          "base_uri": "https://localhost:8080/"
        },
        "id": "8QD9A0NOo_u9",
        "outputId": "8460c925-a025-49a1-8f79-b8c5902653d3"
      },
      "execution_count": null,
      "outputs": [
        {
          "output_type": "execute_result",
          "data": {
            "text/plain": [
              "1"
            ]
          },
          "metadata": {},
          "execution_count": 143
        }
      ]
    },
    {
      "cell_type": "code",
      "source": [
        "student_id.count(44120)"
      ],
      "metadata": {
        "colab": {
          "base_uri": "https://localhost:8080/"
        },
        "id": "ZAmL4z_FpGJE",
        "outputId": "cd43e527-85ca-4acf-f143-97323db2923d"
      },
      "execution_count": null,
      "outputs": [
        {
          "output_type": "execute_result",
          "data": {
            "text/plain": [
              "2"
            ]
          },
          "metadata": {},
          "execution_count": 145
        }
      ]
    },
    {
      "cell_type": "code",
      "source": [
        "student_id.index(44113) #returns the index of 44113 where it first exists"
      ],
      "metadata": {
        "colab": {
          "base_uri": "https://localhost:8080/"
        },
        "id": "btVv5DYYr6xa",
        "outputId": "517d3980-c295-4eb4-a4d5-d0d78e45159e"
      },
      "execution_count": null,
      "outputs": [
        {
          "output_type": "execute_result",
          "data": {
            "text/plain": [
              "2"
            ]
          },
          "metadata": {},
          "execution_count": 147
        }
      ]
    },
    {
      "cell_type": "code",
      "source": [
        "print(student_id * 1 * 2)"
      ],
      "metadata": {
        "colab": {
          "base_uri": "https://localhost:8080/"
        },
        "id": "py1ux64Ls4GC",
        "outputId": "64b7c94e-0fed-4f49-b13e-9bbfa100f42c"
      },
      "execution_count": null,
      "outputs": [
        {
          "output_type": "stream",
          "name": "stdout",
          "text": [
            "(44111, 44112, 44113, 44114, 44115, 44116, 44117, 44118, 44119, 44120, 44115, 44113, 44120, 44111, 44112, 44113, 44114, 44115, 44116, 44117, 44118, 44119, 44120, 44115, 44113, 44120)\n"
          ]
        }
      ]
    },
    {
      "cell_type": "code",
      "source": [
        "student_id[0:5] #displays the first 5 elements"
      ],
      "metadata": {
        "colab": {
          "base_uri": "https://localhost:8080/"
        },
        "id": "lM0BrMcvteXZ",
        "outputId": "1a9af8dc-13fa-4b9c-fbd5-a8d92516db52"
      },
      "execution_count": null,
      "outputs": [
        {
          "output_type": "execute_result",
          "data": {
            "text/plain": [
              "(44111, 44112, 44113, 44114, 44115)"
            ]
          },
          "metadata": {},
          "execution_count": 154
        }
      ]
    },
    {
      "cell_type": "code",
      "source": [
        "student_id[::-1] #displays the list in reverse order"
      ],
      "metadata": {
        "colab": {
          "base_uri": "https://localhost:8080/"
        },
        "id": "wSEYRa9btu8b",
        "outputId": "5f2b2661-90d3-44bc-e6cf-dbd15c1f856a"
      },
      "execution_count": null,
      "outputs": [
        {
          "output_type": "execute_result",
          "data": {
            "text/plain": [
              "(44120,\n",
              " 44113,\n",
              " 44115,\n",
              " 44120,\n",
              " 44119,\n",
              " 44118,\n",
              " 44117,\n",
              " 44116,\n",
              " 44115,\n",
              " 44114,\n",
              " 44113,\n",
              " 44112,\n",
              " 44111)"
            ]
          },
          "metadata": {},
          "execution_count": 155
        }
      ]
    },
    {
      "cell_type": "code",
      "source": [
        "for i in student_id:\n",
        "  print(i)"
      ],
      "metadata": {
        "colab": {
          "base_uri": "https://localhost:8080/"
        },
        "id": "qzH-Ej-yt2n4",
        "outputId": "7d32cd74-5a6b-44b1-92ad-0887bb67a082"
      },
      "execution_count": null,
      "outputs": [
        {
          "output_type": "stream",
          "name": "stdout",
          "text": [
            "44111\n",
            "44112\n",
            "44113\n",
            "44114\n",
            "44115\n",
            "44116\n",
            "44117\n",
            "44118\n",
            "44119\n",
            "44120\n",
            "44115\n",
            "44113\n",
            "44120\n"
          ]
        }
      ]
    },
    {
      "cell_type": "code",
      "source": [
        "for i in student_id: #shows type  of element\n",
        "  print(i, type(i))"
      ],
      "metadata": {
        "colab": {
          "base_uri": "https://localhost:8080/"
        },
        "id": "OLXwElXvwBme",
        "outputId": "b9d5d634-be74-420b-a877-8e875b2f8479"
      },
      "execution_count": null,
      "outputs": [
        {
          "output_type": "stream",
          "name": "stdout",
          "text": [
            "44111 <class 'int'>\n",
            "44112 <class 'int'>\n",
            "44113 <class 'int'>\n",
            "44114 <class 'int'>\n",
            "44115 <class 'int'>\n",
            "44116 <class 'int'>\n",
            "44117 <class 'int'>\n",
            "44118 <class 'int'>\n",
            "44119 <class 'int'>\n",
            "44120 <class 'int'>\n",
            "44115 <class 'int'>\n",
            "44113 <class 'int'>\n",
            "44120 <class 'int'>\n"
          ]
        }
      ]
    },
    {
      "cell_type": "code",
      "source": [
        "max(student_id) #shows the maximum element"
      ],
      "metadata": {
        "colab": {
          "base_uri": "https://localhost:8080/"
        },
        "id": "nZCczYQRwRb6",
        "outputId": "2b012200-e83f-455c-8828-bb361ba10ab1"
      },
      "execution_count": null,
      "outputs": [
        {
          "output_type": "execute_result",
          "data": {
            "text/plain": [
              "44120"
            ]
          },
          "metadata": {},
          "execution_count": 158
        }
      ]
    },
    {
      "cell_type": "code",
      "source": [
        "min(student_id) #shows the minimum element"
      ],
      "metadata": {
        "colab": {
          "base_uri": "https://localhost:8080/"
        },
        "id": "0BLKrMmLwcOW",
        "outputId": "c778ba0d-8b4c-4956-c17b-974f43660a18"
      },
      "execution_count": null,
      "outputs": [
        {
          "output_type": "execute_result",
          "data": {
            "text/plain": [
              "44111"
            ]
          },
          "metadata": {},
          "execution_count": 159
        }
      ]
    },
    {
      "cell_type": "code",
      "source": [
        "44111 in student_id #bool value"
      ],
      "metadata": {
        "colab": {
          "base_uri": "https://localhost:8080/"
        },
        "id": "fGV0LH1Lwjgm",
        "outputId": "4fd6eae6-c27a-4b67-c62d-a57f0ccdab5c"
      },
      "execution_count": null,
      "outputs": [
        {
          "output_type": "execute_result",
          "data": {
            "text/plain": [
              "True"
            ]
          },
          "metadata": {},
          "execution_count": 160
        }
      ]
    },
    {
      "cell_type": "code",
      "source": [
        "43111 in student_id"
      ],
      "metadata": {
        "colab": {
          "base_uri": "https://localhost:8080/"
        },
        "id": "s7gX85hCwmZ8",
        "outputId": "25ae901d-b06f-458c-83d6-b7eb14cdfd81"
      },
      "execution_count": null,
      "outputs": [
        {
          "output_type": "execute_result",
          "data": {
            "text/plain": [
              "False"
            ]
          },
          "metadata": {},
          "execution_count": 161
        }
      ]
    },
    {
      "cell_type": "markdown",
      "source": [
        "#8. Content and access to list and tuple elements:\n",
        "Both are heterogenouss and support element access.\n",
        "\n",
        "#Example:"
      ],
      "metadata": {
        "id": "fvMhPapWxDep"
      }
    },
    {
      "cell_type": "code",
      "source": [
        "list #lists are heterogenous"
      ],
      "metadata": {
        "colab": {
          "base_uri": "https://localhost:8080/"
        },
        "id": "uPayRgHMwodg",
        "outputId": "d00936f1-8174-4591-f9ba-1d13b44a4b22"
      },
      "execution_count": null,
      "outputs": [
        {
          "output_type": "execute_result",
          "data": {
            "text/plain": [
              "['Water', 'Lotions', 'Creams', 1, 24, 99.99, True, False]"
            ]
          },
          "metadata": {},
          "execution_count": 162
        }
      ]
    },
    {
      "cell_type": "code",
      "source": [
        "tuple = (\"Water\", \"Fire\", \"Earth\", \"Air\",1, 2.2, True, 4+6j) #tuples are heterogenous\n",
        "tuple"
      ],
      "metadata": {
        "colab": {
          "base_uri": "https://localhost:8080/"
        },
        "id": "Rpq2Rq1Qz2mS",
        "outputId": "4ad00e92-6dde-46ec-f9ef-014f95d47ed1"
      },
      "execution_count": null,
      "outputs": [
        {
          "output_type": "execute_result",
          "data": {
            "text/plain": [
              "('Water', 'Fire', 'Earth', 'Air', 1, 2.2, True, (4+6j))"
            ]
          },
          "metadata": {},
          "execution_count": 164
        }
      ]
    },
    {
      "cell_type": "code",
      "source": [
        "list[0] #lists support element access"
      ],
      "metadata": {
        "colab": {
          "base_uri": "https://localhost:8080/",
          "height": 36
        },
        "id": "_2kuvx-T0heI",
        "outputId": "1d2fa906-38aa-47af-8cbb-9ca4bdc3d546"
      },
      "execution_count": null,
      "outputs": [
        {
          "output_type": "execute_result",
          "data": {
            "text/plain": [
              "'Water'"
            ],
            "application/vnd.google.colaboratory.intrinsic+json": {
              "type": "string"
            }
          },
          "metadata": {},
          "execution_count": 165
        }
      ]
    },
    {
      "cell_type": "code",
      "source": [
        "tuple[1] #tuples support element access"
      ],
      "metadata": {
        "colab": {
          "base_uri": "https://localhost:8080/",
          "height": 36
        },
        "id": "qRZH0OT70kow",
        "outputId": "5ee6dd6b-404c-4bcf-da75-bd1861f8df76"
      },
      "execution_count": null,
      "outputs": [
        {
          "output_type": "execute_result",
          "data": {
            "text/plain": [
              "'Fire'"
            ],
            "application/vnd.google.colaboratory.intrinsic+json": {
              "type": "string"
            }
          },
          "metadata": {},
          "execution_count": 166
        }
      ]
    },
    {
      "cell_type": "markdown",
      "source": [
        "#**5. Describe the key features of sets and provide examples of their use.**\n",
        "#Sets:\n",
        "Sets are represented using flower brackets{}.\n",
        "Set is a data type in python used to store numerous items in a single variable.\n",
        "\n",
        "\n",
        "\n",
        "* Sets are unordered.\n",
        "* Sets are unindexed.\n",
        "* Sets are mutable.\n",
        "* Sets are heterogenous.\n",
        "* Sets eliminate the duplicate values.\n",
        "\n",
        "\n",
        "#Set operations:\n",
        "##Union:\n",
        "Combines elements from two sets excluding duplicates.\n",
        "##Intersection:\n",
        "Returns the common elements between sets.\n",
        "##Difference:\n",
        "Returns elements present in the first set and not in the other.\n",
        "##Symmetrical difference:\n",
        "Returns the elements present in either of the sets but not in both.\n"
      ],
      "metadata": {
        "id": "PeWTn0T_0rjP"
      }
    },
    {
      "cell_type": "code",
      "source": [
        "s1 = {\"Reading\", \"Writing\", \"Calligraphy\", \"Hand lettering\", \"Painting\", \"Painting\", \"Painting\", \"Drawing\", \"Drawing\", \"Coding\", \"Dining\", \"Expressing\"}\n",
        "s1"
      ],
      "metadata": {
        "colab": {
          "base_uri": "https://localhost:8080/"
        },
        "id": "wT78NqNj64_s",
        "outputId": "738cf6c5-a560-41c1-a8d0-c4a78134ad33"
      },
      "execution_count": null,
      "outputs": [
        {
          "output_type": "execute_result",
          "data": {
            "text/plain": [
              "{'Calligraphy',\n",
              " 'Coding',\n",
              " 'Dining',\n",
              " 'Drawing',\n",
              " 'Expressing',\n",
              " 'Hand lettering',\n",
              " 'Painting',\n",
              " 'Reading',\n",
              " 'Writing'}"
            ]
          },
          "metadata": {},
          "execution_count": 174
        }
      ]
    },
    {
      "cell_type": "code",
      "source": [
        "s2 = {\"Hacking\", \"Coding\", \"Dining\", \"Expressing\", \"Understanding\", \"Observing\", \"Bearing\",\"Beautifying\", \"Coding\", \"Dining\", \"Expressing\", \"Understanding\", \"Observing\", \"Bearing\", \"Beautifying\"}\n",
        "s2"
      ],
      "metadata": {
        "colab": {
          "base_uri": "https://localhost:8080/"
        },
        "id": "AdOyBczE7e9M",
        "outputId": "84d6904b-f1c7-4f5a-85b1-3d8565c8d2da"
      },
      "execution_count": null,
      "outputs": [
        {
          "output_type": "execute_result",
          "data": {
            "text/plain": [
              "{'Bearing',\n",
              " 'Beautifying',\n",
              " 'Coding',\n",
              " 'Dining',\n",
              " 'Expressing',\n",
              " 'Hacking',\n",
              " 'Observing',\n",
              " 'Understanding'}"
            ]
          },
          "metadata": {},
          "execution_count": 175
        }
      ]
    },
    {
      "cell_type": "code",
      "source": [
        "#Union\n",
        "s1.union(s2)"
      ],
      "metadata": {
        "colab": {
          "base_uri": "https://localhost:8080/"
        },
        "id": "LW1yIxbW8STS",
        "outputId": "75faec16-6ee5-41dc-9b27-d13b6d862014"
      },
      "execution_count": null,
      "outputs": [
        {
          "output_type": "execute_result",
          "data": {
            "text/plain": [
              "{'Bearing',\n",
              " 'Beautifying',\n",
              " 'Calligraphy',\n",
              " 'Coding',\n",
              " 'Dining',\n",
              " 'Drawing',\n",
              " 'Expressing',\n",
              " 'Hacking',\n",
              " 'Hand lettering',\n",
              " 'Observing',\n",
              " 'Painting',\n",
              " 'Reading',\n",
              " 'Understanding',\n",
              " 'Writing'}"
            ]
          },
          "metadata": {},
          "execution_count": 177
        }
      ]
    },
    {
      "cell_type": "code",
      "source": [
        "#Union\n",
        "s1|s2"
      ],
      "metadata": {
        "colab": {
          "base_uri": "https://localhost:8080/"
        },
        "id": "_gk9Enc58fHG",
        "outputId": "66add3f5-cc76-4788-f0f3-31db1271a34f"
      },
      "execution_count": null,
      "outputs": [
        {
          "output_type": "execute_result",
          "data": {
            "text/plain": [
              "{'Bearing',\n",
              " 'Beautifying',\n",
              " 'Calligraphy',\n",
              " 'Coding',\n",
              " 'Dining',\n",
              " 'Drawing',\n",
              " 'Expressing',\n",
              " 'Hacking',\n",
              " 'Hand lettering',\n",
              " 'Observing',\n",
              " 'Painting',\n",
              " 'Reading',\n",
              " 'Understanding',\n",
              " 'Writing'}"
            ]
          },
          "metadata": {},
          "execution_count": 176
        }
      ]
    },
    {
      "cell_type": "code",
      "source": [
        "#Intersection\n",
        "s1.intersection(s2)"
      ],
      "metadata": {
        "colab": {
          "base_uri": "https://localhost:8080/"
        },
        "id": "kGdQdKtW8klX",
        "outputId": "52c20e34-d96d-4854-bd85-b0fc8fc00e1c"
      },
      "execution_count": null,
      "outputs": [
        {
          "output_type": "execute_result",
          "data": {
            "text/plain": [
              "{'Coding', 'Dining', 'Expressing'}"
            ]
          },
          "metadata": {},
          "execution_count": 178
        }
      ]
    },
    {
      "cell_type": "code",
      "source": [
        "#Intersection\n",
        "s1 & s2"
      ],
      "metadata": {
        "colab": {
          "base_uri": "https://localhost:8080/"
        },
        "id": "sVEfhhQT87dZ",
        "outputId": "146f9ecc-e1a8-495b-c7a2-e6b6d79d2fe4"
      },
      "execution_count": null,
      "outputs": [
        {
          "output_type": "execute_result",
          "data": {
            "text/plain": [
              "{'Coding', 'Dining', 'Expressing'}"
            ]
          },
          "metadata": {},
          "execution_count": 179
        }
      ]
    },
    {
      "cell_type": "code",
      "source": [
        "#Difference\n",
        "s1 - s2"
      ],
      "metadata": {
        "colab": {
          "base_uri": "https://localhost:8080/"
        },
        "id": "nzER5m8h8_7O",
        "outputId": "9af1c551-1539-4cd7-d841-a9ab860caf7f"
      },
      "execution_count": null,
      "outputs": [
        {
          "output_type": "execute_result",
          "data": {
            "text/plain": [
              "{'Calligraphy', 'Drawing', 'Hand lettering', 'Painting', 'Reading', 'Writing'}"
            ]
          },
          "metadata": {},
          "execution_count": 180
        }
      ]
    },
    {
      "cell_type": "code",
      "source": [
        "#Symmetrical difference\n",
        "s1 ^ s2"
      ],
      "metadata": {
        "colab": {
          "base_uri": "https://localhost:8080/"
        },
        "id": "h7_V7xzD9FRk",
        "outputId": "d4d66582-cbbc-41fa-a8d0-634e4430f8f5"
      },
      "execution_count": null,
      "outputs": [
        {
          "output_type": "execute_result",
          "data": {
            "text/plain": [
              "{'Bearing',\n",
              " 'Beautifying',\n",
              " 'Calligraphy',\n",
              " 'Drawing',\n",
              " 'Hacking',\n",
              " 'Hand lettering',\n",
              " 'Observing',\n",
              " 'Painting',\n",
              " 'Reading',\n",
              " 'Understanding',\n",
              " 'Writing'}"
            ]
          },
          "metadata": {},
          "execution_count": 181
        }
      ]
    },
    {
      "cell_type": "code",
      "source": [
        "#Unordered and unindexed\n",
        "s1 = {\"Reading\", \"Writing\", \"Calligraphy\", \"Hand lettering\", \"Painting\", \"Painting\", \"Painting\", \"Drawing\", \"Drawing\", \"Coding\", \"Dining\", \"Expressing\"}\n",
        "s1"
      ],
      "metadata": {
        "colab": {
          "base_uri": "https://localhost:8080/"
        },
        "id": "1tTQdXBU9ML6",
        "outputId": "6ceb52e8-f257-45b4-e51b-27e04e20640d"
      },
      "execution_count": null,
      "outputs": [
        {
          "output_type": "execute_result",
          "data": {
            "text/plain": [
              "{'Calligraphy',\n",
              " 'Coding',\n",
              " 'Dining',\n",
              " 'Drawing',\n",
              " 'Expressing',\n",
              " 'Hand lettering',\n",
              " 'Painting',\n",
              " 'Reading',\n",
              " 'Writing'}"
            ]
          },
          "metadata": {},
          "execution_count": 183
        }
      ]
    },
    {
      "cell_type": "code",
      "source": [
        "#Heterogenous\n",
        "s3 = {\"Hacking\", \"Coding\", \"Dining\", \"Expressing\", \"Understanding\", 1, 22, 345, 3.987, True}\n",
        "s3"
      ],
      "metadata": {
        "colab": {
          "base_uri": "https://localhost:8080/"
        },
        "id": "r-WSmhxe-hwh",
        "outputId": "7f791668-abcb-4d79-86b4-d328975bccee"
      },
      "execution_count": null,
      "outputs": [
        {
          "output_type": "execute_result",
          "data": {
            "text/plain": [
              "{1,\n",
              " 22,\n",
              " 3.987,\n",
              " 345,\n",
              " 'Coding',\n",
              " 'Dining',\n",
              " 'Expressing',\n",
              " 'Hacking',\n",
              " 'Understanding'}"
            ]
          },
          "metadata": {},
          "execution_count": 191
        }
      ]
    },
    {
      "cell_type": "code",
      "source": [
        "#Eliminates dupliicate/repeated elements\n",
        "s1 = {\"Reading\", \"Writing\", \"Calligraphy\", \"Hand lettering\", \"Painting\", \"Painting\", \"Painting\", \"Drawing\", \"Drawing\", \"Coding\", \"Dining\", \"Expressing\"}\n",
        "s1"
      ],
      "metadata": {
        "colab": {
          "base_uri": "https://localhost:8080/"
        },
        "id": "l1nma2bg-7pZ",
        "outputId": "abccfc00-6821-4865-9eda-2f8bbbea5839"
      },
      "execution_count": null,
      "outputs": [
        {
          "output_type": "execute_result",
          "data": {
            "text/plain": [
              "{'Calligraphy',\n",
              " 'Coding',\n",
              " 'Dining',\n",
              " 'Drawing',\n",
              " 'Expressing',\n",
              " 'Hand lettering',\n",
              " 'Painting',\n",
              " 'Reading',\n",
              " 'Writing'}"
            ]
          },
          "metadata": {},
          "execution_count": 192
        }
      ]
    },
    {
      "cell_type": "code",
      "source": [
        "#Mutable\n",
        "s1.add(\"Boxing\")\n",
        "s1"
      ],
      "metadata": {
        "colab": {
          "base_uri": "https://localhost:8080/"
        },
        "id": "4mLdvrAf_bc9",
        "outputId": "f803de20-eda4-4438-e2c4-66ec9b1fed1e"
      },
      "execution_count": null,
      "outputs": [
        {
          "output_type": "execute_result",
          "data": {
            "text/plain": [
              "{'Boxing',\n",
              " 'Calligraphy',\n",
              " 'Coding',\n",
              " 'Dining',\n",
              " 'Drawing',\n",
              " 'Expressing',\n",
              " 'Hand lettering',\n",
              " 'Painting',\n",
              " 'Reading',\n",
              " 'Writing'}"
            ]
          },
          "metadata": {},
          "execution_count": 193
        }
      ]
    },
    {
      "cell_type": "code",
      "source": [
        "s1.remove(\"Drawing\")\n",
        "s1"
      ],
      "metadata": {
        "colab": {
          "base_uri": "https://localhost:8080/"
        },
        "id": "I8a2PIMg_izT",
        "outputId": "4a06ced2-7be9-436f-a502-408c2794a1a9"
      },
      "execution_count": null,
      "outputs": [
        {
          "output_type": "execute_result",
          "data": {
            "text/plain": [
              "{'Boxing',\n",
              " 'Calligraphy',\n",
              " 'Coding',\n",
              " 'Dining',\n",
              " 'Expressing',\n",
              " 'Hand lettering',\n",
              " 'Painting',\n",
              " 'Reading',\n",
              " 'Writing'}"
            ]
          },
          "metadata": {},
          "execution_count": 194
        }
      ]
    },
    {
      "cell_type": "markdown",
      "source": [
        "#Frozen sets:\n",
        "Immutable version of sets where we cannot add or remove any elements.\n",
        "\n",
        "#Example:"
      ],
      "metadata": {
        "id": "uOWLqks7_LDQ"
      }
    },
    {
      "cell_type": "code",
      "source": [
        "my_fs = frozenset([1, 2, 3, 4, 5])\n",
        "my_fs"
      ],
      "metadata": {
        "colab": {
          "base_uri": "https://localhost:8080/"
        },
        "id": "1npKSGq1_u0w",
        "outputId": "3a2b1fa3-5269-47fb-bae7-849c80a15336"
      },
      "execution_count": null,
      "outputs": [
        {
          "output_type": "execute_result",
          "data": {
            "text/plain": [
              "frozenset({1, 2, 3, 4, 5})"
            ]
          },
          "metadata": {},
          "execution_count": 195
        }
      ]
    },
    {
      "cell_type": "code",
      "source": [
        "#returns an error as frozen sets are immutable\n",
        "my_fs.add(6)"
      ],
      "metadata": {
        "colab": {
          "base_uri": "https://localhost:8080/",
          "height": 163
        },
        "id": "H-1JVc2K_4YQ",
        "outputId": "2d55cbba-ff8f-4dc2-d485-ea8eb45efa69"
      },
      "execution_count": null,
      "outputs": [
        {
          "output_type": "error",
          "ename": "AttributeError",
          "evalue": "'frozenset' object has no attribute 'add'",
          "traceback": [
            "\u001b[0;31m---------------------------------------------------------------------------\u001b[0m",
            "\u001b[0;31mAttributeError\u001b[0m                            Traceback (most recent call last)",
            "\u001b[0;32m<ipython-input-196-7e3c29449b08>\u001b[0m in \u001b[0;36m<cell line: 2>\u001b[0;34m()\u001b[0m\n\u001b[1;32m      1\u001b[0m \u001b[0;31m#returns an error as frozen sets are immutable\u001b[0m\u001b[0;34m\u001b[0m\u001b[0;34m\u001b[0m\u001b[0m\n\u001b[0;32m----> 2\u001b[0;31m \u001b[0mmy_fs\u001b[0m\u001b[0;34m.\u001b[0m\u001b[0madd\u001b[0m\u001b[0;34m(\u001b[0m\u001b[0;36m6\u001b[0m\u001b[0;34m)\u001b[0m\u001b[0;34m\u001b[0m\u001b[0;34m\u001b[0m\u001b[0m\n\u001b[0m",
            "\u001b[0;31mAttributeError\u001b[0m: 'frozenset' object has no attribute 'add'"
          ]
        }
      ]
    },
    {
      "cell_type": "markdown",
      "source": [
        "#Use of sets:\n",
        "1. Sets remove duplicate values from a collection like a list and perform common math operations like unions and intersections."
      ],
      "metadata": {
        "id": "bbjmRHme0265"
      }
    },
    {
      "cell_type": "markdown",
      "source": [
        "#**6. Discuss the use cases of tuples and sets in Python programming.**\n",
        "#Use cases of tuples:\n",
        "Tuples are suitable for fixed collections of items, for data which shouldn't be modified like coordinates, configuration settings or sensitive identity cards.\n",
        "To sum it up we can se that tuples are used to store data that shouldn't be tampered with.\n",
        "#Example:"
      ],
      "metadata": {
        "id": "hnQ9gkxyAEXr"
      }
    },
    {
      "cell_type": "code",
      "source": [
        "student_id = (44111, 44112, 44113, 44114, 44115, 44116, 44117, 44118, 44119, 44120, 44115, 44113, 44120)\n",
        "student_id"
      ],
      "metadata": {
        "colab": {
          "base_uri": "https://localhost:8080/"
        },
        "id": "xG-zUTPzx-AC",
        "outputId": "7c5d4da0-5dd1-467b-d120-2aa2544413e8"
      },
      "execution_count": null,
      "outputs": [
        {
          "output_type": "execute_result",
          "data": {
            "text/plain": [
              "(44111,\n",
              " 44112,\n",
              " 44113,\n",
              " 44114,\n",
              " 44115,\n",
              " 44116,\n",
              " 44117,\n",
              " 44118,\n",
              " 44119,\n",
              " 44120,\n",
              " 44115,\n",
              " 44113,\n",
              " 44120)"
            ]
          },
          "metadata": {},
          "execution_count": 1
        }
      ]
    },
    {
      "cell_type": "code",
      "source": [
        "student_id.count(44113) #returns the number of times 44113 appears in the tuple"
      ],
      "metadata": {
        "colab": {
          "base_uri": "https://localhost:8080/"
        },
        "id": "28-ox7OxyORv",
        "outputId": "afe4951d-cab7-49c5-e8a6-5c18c6373bad"
      },
      "execution_count": null,
      "outputs": [
        {
          "output_type": "execute_result",
          "data": {
            "text/plain": [
              "2"
            ]
          },
          "metadata": {},
          "execution_count": 2
        }
      ]
    },
    {
      "cell_type": "code",
      "source": [
        "student_id.count(44111)"
      ],
      "metadata": {
        "colab": {
          "base_uri": "https://localhost:8080/"
        },
        "id": "_LlXSIIJySKU",
        "outputId": "2030e752-be02-431d-b787-2feb30677f8e"
      },
      "execution_count": null,
      "outputs": [
        {
          "output_type": "execute_result",
          "data": {
            "text/plain": [
              "1"
            ]
          },
          "metadata": {},
          "execution_count": 3
        }
      ]
    },
    {
      "cell_type": "code",
      "source": [
        "student_id.count(44120)"
      ],
      "metadata": {
        "colab": {
          "base_uri": "https://localhost:8080/"
        },
        "id": "QmQaZoAkyUoW",
        "outputId": "2ccf6914-955b-4133-f03e-82678ca06781"
      },
      "execution_count": null,
      "outputs": [
        {
          "output_type": "execute_result",
          "data": {
            "text/plain": [
              "2"
            ]
          },
          "metadata": {},
          "execution_count": 4
        }
      ]
    },
    {
      "cell_type": "code",
      "source": [
        "student_id.index(44113) #returns the index of 44113 where it first exists"
      ],
      "metadata": {
        "colab": {
          "base_uri": "https://localhost:8080/"
        },
        "id": "Cj83IZMxyXdF",
        "outputId": "ceba5133-715e-4c22-bcd3-3baa84e79127"
      },
      "execution_count": null,
      "outputs": [
        {
          "output_type": "execute_result",
          "data": {
            "text/plain": [
              "2"
            ]
          },
          "metadata": {},
          "execution_count": 5
        }
      ]
    },
    {
      "cell_type": "code",
      "source": [
        "print(student_id * 1 * 2)"
      ],
      "metadata": {
        "colab": {
          "base_uri": "https://localhost:8080/"
        },
        "id": "WUVxgukbycP1",
        "outputId": "680b390e-f760-4790-dbbc-136c6ea20969"
      },
      "execution_count": null,
      "outputs": [
        {
          "output_type": "stream",
          "name": "stdout",
          "text": [
            "(44111, 44112, 44113, 44114, 44115, 44116, 44117, 44118, 44119, 44120, 44115, 44113, 44120, 44111, 44112, 44113, 44114, 44115, 44116, 44117, 44118, 44119, 44120, 44115, 44113, 44120)\n"
          ]
        }
      ]
    },
    {
      "cell_type": "code",
      "source": [
        "student_id[0:5] #displays the first 5 elements"
      ],
      "metadata": {
        "colab": {
          "base_uri": "https://localhost:8080/"
        },
        "id": "mmho-mTxyg7p",
        "outputId": "0a8969d4-ebcd-402a-c21b-15c7c7e3500d"
      },
      "execution_count": null,
      "outputs": [
        {
          "output_type": "execute_result",
          "data": {
            "text/plain": [
              "(44111, 44112, 44113, 44114, 44115)"
            ]
          },
          "metadata": {},
          "execution_count": 7
        }
      ]
    },
    {
      "cell_type": "code",
      "source": [
        "student_id[::-1] #displays the list in reverse order"
      ],
      "metadata": {
        "colab": {
          "base_uri": "https://localhost:8080/"
        },
        "id": "xf0mjx1JyqkI",
        "outputId": "bf6cea43-9644-4aea-e77d-4bfb7404e69d"
      },
      "execution_count": null,
      "outputs": [
        {
          "output_type": "execute_result",
          "data": {
            "text/plain": [
              "(44120,\n",
              " 44113,\n",
              " 44115,\n",
              " 44120,\n",
              " 44119,\n",
              " 44118,\n",
              " 44117,\n",
              " 44116,\n",
              " 44115,\n",
              " 44114,\n",
              " 44113,\n",
              " 44112,\n",
              " 44111)"
            ]
          },
          "metadata": {},
          "execution_count": 8
        }
      ]
    },
    {
      "cell_type": "code",
      "source": [
        "for i in student_id:\n",
        "  print(i)"
      ],
      "metadata": {
        "colab": {
          "base_uri": "https://localhost:8080/"
        },
        "id": "cE-unbhzyuPO",
        "outputId": "04d0e478-4b05-41cb-88ac-4ca9fc52e085"
      },
      "execution_count": null,
      "outputs": [
        {
          "output_type": "stream",
          "name": "stdout",
          "text": [
            "44111\n",
            "44112\n",
            "44113\n",
            "44114\n",
            "44115\n",
            "44116\n",
            "44117\n",
            "44118\n",
            "44119\n",
            "44120\n",
            "44115\n",
            "44113\n",
            "44120\n"
          ]
        }
      ]
    },
    {
      "cell_type": "code",
      "source": [
        "for i in student_id: #shows type  of element\n",
        "  print(i, type(i))"
      ],
      "metadata": {
        "colab": {
          "base_uri": "https://localhost:8080/"
        },
        "id": "8sil8dpMyxSp",
        "outputId": "32adfaa7-16f7-4246-ae60-23a25ac7f5d8"
      },
      "execution_count": null,
      "outputs": [
        {
          "output_type": "stream",
          "name": "stdout",
          "text": [
            "44111 <class 'int'>\n",
            "44112 <class 'int'>\n",
            "44113 <class 'int'>\n",
            "44114 <class 'int'>\n",
            "44115 <class 'int'>\n",
            "44116 <class 'int'>\n",
            "44117 <class 'int'>\n",
            "44118 <class 'int'>\n",
            "44119 <class 'int'>\n",
            "44120 <class 'int'>\n",
            "44115 <class 'int'>\n",
            "44113 <class 'int'>\n",
            "44120 <class 'int'>\n"
          ]
        }
      ]
    },
    {
      "cell_type": "code",
      "source": [
        "max(student_id) #shows the maximum element"
      ],
      "metadata": {
        "colab": {
          "base_uri": "https://localhost:8080/"
        },
        "id": "RyAk53W8y1PX",
        "outputId": "7d878267-393b-4ce2-fd0a-e18e27abec41"
      },
      "execution_count": null,
      "outputs": [
        {
          "output_type": "execute_result",
          "data": {
            "text/plain": [
              "44120"
            ]
          },
          "metadata": {},
          "execution_count": 11
        }
      ]
    },
    {
      "cell_type": "code",
      "source": [
        "min(student_id) #shows the minimum element"
      ],
      "metadata": {
        "colab": {
          "base_uri": "https://localhost:8080/"
        },
        "id": "H8PC0UYOy45n",
        "outputId": "9b0d74aa-01a7-4dee-b9f4-e7f16e2e3e0e"
      },
      "execution_count": null,
      "outputs": [
        {
          "output_type": "execute_result",
          "data": {
            "text/plain": [
              "44111"
            ]
          },
          "metadata": {},
          "execution_count": 12
        }
      ]
    },
    {
      "cell_type": "code",
      "source": [
        "44111 in student_id #bool value"
      ],
      "metadata": {
        "colab": {
          "base_uri": "https://localhost:8080/"
        },
        "id": "Ao_ln_Lly8hr",
        "outputId": "0de2c029-1b81-4e61-b161-ca74a6420fd9"
      },
      "execution_count": null,
      "outputs": [
        {
          "output_type": "execute_result",
          "data": {
            "text/plain": [
              "True"
            ]
          },
          "metadata": {},
          "execution_count": 13
        }
      ]
    },
    {
      "cell_type": "code",
      "source": [
        "43111 in student_id"
      ],
      "metadata": {
        "colab": {
          "base_uri": "https://localhost:8080/"
        },
        "id": "uXtqJErNzABz",
        "outputId": "58abf37f-5e96-4fe6-90cb-31a45b8227ff"
      },
      "execution_count": null,
      "outputs": [
        {
          "output_type": "execute_result",
          "data": {
            "text/plain": [
              "False"
            ]
          },
          "metadata": {},
          "execution_count": 14
        }
      ]
    },
    {
      "cell_type": "markdown",
      "source": [
        "#Use cases of sets:\n",
        "Sets are used to store numerous items in a single variable.\n",
        "Sets remove duplicate values from a collection like a list and perform common math operations like unions and intersections.\n",
        "\n",
        "#Example:"
      ],
      "metadata": {
        "id": "qIz1ywAVzCdF"
      }
    },
    {
      "cell_type": "code",
      "source": [
        "list0 = [1, 2, \"Orange\", \"Lime\", \"Lemon\", \"Grapefruit\"]\n",
        "list0"
      ],
      "metadata": {
        "colab": {
          "base_uri": "https://localhost:8080/"
        },
        "id": "XG4rt_KY1yV9",
        "outputId": "b2ab7d78-959a-4350-98e2-b6a2ac228529"
      },
      "execution_count": null,
      "outputs": [
        {
          "output_type": "execute_result",
          "data": {
            "text/plain": [
              "[1, 2, 'Orange', 'Lime', 'Lemon', 'Grapefruit']"
            ]
          },
          "metadata": {},
          "execution_count": 32
        }
      ]
    },
    {
      "cell_type": "code",
      "source": [
        "#Creates set from list without changing the original data type.\n",
        "s = set(list0)\n",
        "s"
      ],
      "metadata": {
        "colab": {
          "base_uri": "https://localhost:8080/"
        },
        "id": "Unt5lMig2CAC",
        "outputId": "45bcc437-979d-4a90-f6f0-034c2a1a8dc6"
      },
      "execution_count": null,
      "outputs": [
        {
          "output_type": "execute_result",
          "data": {
            "text/plain": [
              "{1, 2, 'Grapefruit', 'Lemon', 'Lime', 'Orange'}"
            ]
          },
          "metadata": {},
          "execution_count": 33
        }
      ]
    },
    {
      "cell_type": "code",
      "source": [
        "list0 = list(s)\n",
        "list0"
      ],
      "metadata": {
        "colab": {
          "base_uri": "https://localhost:8080/"
        },
        "id": "9GEt7sju2hxr",
        "outputId": "ec62a552-a2e2-42ee-e549-3c184d59e19c"
      },
      "execution_count": null,
      "outputs": [
        {
          "output_type": "execute_result",
          "data": {
            "text/plain": [
              "[1, 2, 'Grapefruit', 'Lemon', 'Orange', 'Lime']"
            ]
          },
          "metadata": {},
          "execution_count": 34
        }
      ]
    },
    {
      "cell_type": "code",
      "source": [
        "#Sets are not indexed, so elements of a set cannot be accessed\n",
        "s[0]"
      ],
      "metadata": {
        "colab": {
          "base_uri": "https://localhost:8080/",
          "height": 163
        },
        "id": "PwaS-Qbq2o9i",
        "outputId": "0ac0ef53-b95d-43e8-9893-77b92f345898"
      },
      "execution_count": null,
      "outputs": [
        {
          "output_type": "error",
          "ename": "TypeError",
          "evalue": "'set' object is not subscriptable",
          "traceback": [
            "\u001b[0;31m---------------------------------------------------------------------------\u001b[0m",
            "\u001b[0;31mTypeError\u001b[0m                                 Traceback (most recent call last)",
            "\u001b[0;32m<ipython-input-35-263cd7f154f9>\u001b[0m in \u001b[0;36m<cell line: 2>\u001b[0;34m()\u001b[0m\n\u001b[1;32m      1\u001b[0m \u001b[0;31m#Sets are not indexed, so elements of a set cannot be accessed\u001b[0m\u001b[0;34m\u001b[0m\u001b[0;34m\u001b[0m\u001b[0m\n\u001b[0;32m----> 2\u001b[0;31m \u001b[0ms\u001b[0m\u001b[0;34m[\u001b[0m\u001b[0;36m0\u001b[0m\u001b[0;34m]\u001b[0m\u001b[0;34m\u001b[0m\u001b[0;34m\u001b[0m\u001b[0m\n\u001b[0m",
            "\u001b[0;31mTypeError\u001b[0m: 'set' object is not subscriptable"
          ]
        }
      ]
    },
    {
      "cell_type": "code",
      "source": [
        "#Lists are indexed and can be accessed\n",
        "list0[0]"
      ],
      "metadata": {
        "colab": {
          "base_uri": "https://localhost:8080/"
        },
        "id": "_bHZCjSu23qK",
        "outputId": "11ab61db-655f-43b9-b48a-588e8c13e616"
      },
      "execution_count": null,
      "outputs": [
        {
          "output_type": "execute_result",
          "data": {
            "text/plain": [
              "1"
            ]
          },
          "metadata": {},
          "execution_count": 36
        }
      ]
    },
    {
      "cell_type": "markdown",
      "source": [
        "A set of sets or a set of lists can't be created as they are unhashable.\n",
        "\n",
        "Set inisde the set or list inside set must be immutable or it throws an error.\n",
        "\n",
        "Unhashable ---> Mutable"
      ],
      "metadata": {
        "id": "QMLjf9sO3KF2"
      }
    },
    {
      "cell_type": "code",
      "source": [
        "set = {{1, 2, 3}, {4, 5, 6}}"
      ],
      "metadata": {
        "colab": {
          "base_uri": "https://localhost:8080/",
          "height": 145
        },
        "id": "715zXCpf3AGp",
        "outputId": "5d72abfd-e90f-4c12-dcfc-4a8b808179d8"
      },
      "execution_count": null,
      "outputs": [
        {
          "output_type": "error",
          "ename": "TypeError",
          "evalue": "unhashable type: 'set'",
          "traceback": [
            "\u001b[0;31m---------------------------------------------------------------------------\u001b[0m",
            "\u001b[0;31mTypeError\u001b[0m                                 Traceback (most recent call last)",
            "\u001b[0;32m<ipython-input-23-9c033289502a>\u001b[0m in \u001b[0;36m<cell line: 1>\u001b[0;34m()\u001b[0m\n\u001b[0;32m----> 1\u001b[0;31m \u001b[0mset\u001b[0m \u001b[0;34m=\u001b[0m \u001b[0;34m{\u001b[0m\u001b[0;34m{\u001b[0m\u001b[0;36m1\u001b[0m\u001b[0;34m,\u001b[0m \u001b[0;36m2\u001b[0m\u001b[0;34m,\u001b[0m \u001b[0;36m3\u001b[0m\u001b[0;34m}\u001b[0m\u001b[0;34m,\u001b[0m \u001b[0;34m{\u001b[0m\u001b[0;36m4\u001b[0m\u001b[0;34m,\u001b[0m \u001b[0;36m5\u001b[0m\u001b[0;34m,\u001b[0m \u001b[0;36m6\u001b[0m\u001b[0;34m}\u001b[0m\u001b[0;34m}\u001b[0m\u001b[0;34m\u001b[0m\u001b[0;34m\u001b[0m\u001b[0m\n\u001b[0m",
            "\u001b[0;31mTypeError\u001b[0m: unhashable type: 'set'"
          ]
        }
      ]
    },
    {
      "cell_type": "code",
      "source": [
        "set1 = {[1, 2, 3], [4, 5, 6]}"
      ],
      "metadata": {
        "colab": {
          "base_uri": "https://localhost:8080/",
          "height": 145
        },
        "id": "K7JodzNt3zhw",
        "outputId": "6970a558-f8ff-4e12-f45e-b0dd98818f88"
      },
      "execution_count": null,
      "outputs": [
        {
          "output_type": "error",
          "ename": "TypeError",
          "evalue": "unhashable type: 'list'",
          "traceback": [
            "\u001b[0;31m---------------------------------------------------------------------------\u001b[0m",
            "\u001b[0;31mTypeError\u001b[0m                                 Traceback (most recent call last)",
            "\u001b[0;32m<ipython-input-24-a0266fc71ab0>\u001b[0m in \u001b[0;36m<cell line: 1>\u001b[0;34m()\u001b[0m\n\u001b[0;32m----> 1\u001b[0;31m \u001b[0mset1\u001b[0m \u001b[0;34m=\u001b[0m \u001b[0;34m{\u001b[0m\u001b[0;34m[\u001b[0m\u001b[0;36m1\u001b[0m\u001b[0;34m,\u001b[0m \u001b[0;36m2\u001b[0m\u001b[0;34m,\u001b[0m \u001b[0;36m3\u001b[0m\u001b[0;34m]\u001b[0m\u001b[0;34m,\u001b[0m \u001b[0;34m[\u001b[0m\u001b[0;36m4\u001b[0m\u001b[0;34m,\u001b[0m \u001b[0;36m5\u001b[0m\u001b[0;34m,\u001b[0m \u001b[0;36m6\u001b[0m\u001b[0;34m]\u001b[0m\u001b[0;34m}\u001b[0m\u001b[0;34m\u001b[0m\u001b[0;34m\u001b[0m\u001b[0m\n\u001b[0m",
            "\u001b[0;31mTypeError\u001b[0m: unhashable type: 'list'"
          ]
        }
      ]
    },
    {
      "cell_type": "markdown",
      "source": [
        "A set of tuples can be created as tuples are immutable and can be included in a set.\n",
        "\n"
      ],
      "metadata": {
        "id": "09SZRd8a4C2J"
      }
    },
    {
      "cell_type": "code",
      "source": [
        "set2 = {(1, 2, 3), (4, 5, 6)}\n",
        "set2"
      ],
      "metadata": {
        "colab": {
          "base_uri": "https://localhost:8080/"
        },
        "id": "oJeKWI_G6DSr",
        "outputId": "cd281ac1-bc36-476d-db37-f1975b62955c"
      },
      "execution_count": null,
      "outputs": [
        {
          "output_type": "execute_result",
          "data": {
            "text/plain": [
              "{(1, 2, 3), (4, 5, 6)}"
            ]
          },
          "metadata": {},
          "execution_count": 25
        }
      ]
    },
    {
      "cell_type": "markdown",
      "source": [
        "##Immutable data structure has a stable hash value."
      ],
      "metadata": {
        "id": "CkkG-QF86XUK"
      }
    },
    {
      "cell_type": "code",
      "source": [
        "#Sets are mutable\n",
        "s.add(66)\n",
        "s"
      ],
      "metadata": {
        "colab": {
          "base_uri": "https://localhost:8080/"
        },
        "id": "pmiylcWZ6dup",
        "outputId": "5bb7edb5-b23f-4da0-d485-c4407db60f3e"
      },
      "execution_count": null,
      "outputs": [
        {
          "output_type": "execute_result",
          "data": {
            "text/plain": [
              "{1, 2, 66, 'Grapefruit', 'Lemon', 'Lime', 'Orange'}"
            ]
          },
          "metadata": {},
          "execution_count": 37
        }
      ]
    },
    {
      "cell_type": "code",
      "source": [
        "s.pop()\n",
        "s"
      ],
      "metadata": {
        "colab": {
          "base_uri": "https://localhost:8080/"
        },
        "id": "kLYWciey6n2U",
        "outputId": "3b16023f-bfd1-4fe1-8472-33f46d2d01e1"
      },
      "execution_count": null,
      "outputs": [
        {
          "output_type": "execute_result",
          "data": {
            "text/plain": [
              "{2, 66, 'Grapefruit', 'Lemon', 'Lime', 'Orange'}"
            ]
          },
          "metadata": {},
          "execution_count": 38
        }
      ]
    },
    {
      "cell_type": "code",
      "source": [
        "s.remove(2)\n",
        "s"
      ],
      "metadata": {
        "colab": {
          "base_uri": "https://localhost:8080/"
        },
        "id": "m5WkjLOK64Ov",
        "outputId": "99496e6b-c42b-4d81-e215-d3af9681dbf0"
      },
      "execution_count": null,
      "outputs": [
        {
          "output_type": "execute_result",
          "data": {
            "text/plain": [
              "{66, 'Grapefruit', 'Lemon', 'Lime', 'Orange'}"
            ]
          },
          "metadata": {},
          "execution_count": 40
        }
      ]
    },
    {
      "cell_type": "code",
      "source": [
        "s.update(\"Mandarin\") #Updates are iterable and sets remove duplicate items\n",
        "s"
      ],
      "metadata": {
        "colab": {
          "base_uri": "https://localhost:8080/"
        },
        "id": "zt7F3vzf6_JO",
        "outputId": "59ed4a66-0d33-425c-d306-0b9e1b59ffc2"
      },
      "execution_count": null,
      "outputs": [
        {
          "output_type": "execute_result",
          "data": {
            "text/plain": [
              "{66, 'Grapefruit', 'Lemon', 'Lime', 'M', 'Orange', 'a', 'd', 'i', 'n', 'r'}"
            ]
          },
          "metadata": {},
          "execution_count": 43
        }
      ]
    },
    {
      "cell_type": "code",
      "source": [
        "s.remove(\"Apple\") #This returns an error as the specified element is absent in the set\n",
        "s"
      ],
      "metadata": {
        "colab": {
          "base_uri": "https://localhost:8080/",
          "height": 163
        },
        "id": "y00w4Ncw7c6F",
        "outputId": "6397c6c0-9564-4978-8316-7dd44daf9369"
      },
      "execution_count": null,
      "outputs": [
        {
          "output_type": "error",
          "ename": "KeyError",
          "evalue": "'Apple'",
          "traceback": [
            "\u001b[0;31m---------------------------------------------------------------------------\u001b[0m",
            "\u001b[0;31mKeyError\u001b[0m                                  Traceback (most recent call last)",
            "\u001b[0;32m<ipython-input-44-3c7eb885cacb>\u001b[0m in \u001b[0;36m<cell line: 1>\u001b[0;34m()\u001b[0m\n\u001b[0;32m----> 1\u001b[0;31m \u001b[0ms\u001b[0m\u001b[0;34m.\u001b[0m\u001b[0mremove\u001b[0m\u001b[0;34m(\u001b[0m\u001b[0;34m\"Apple\"\u001b[0m\u001b[0;34m)\u001b[0m \u001b[0;31m#This returns an error as the specified element is absent in the set\u001b[0m\u001b[0;34m\u001b[0m\u001b[0;34m\u001b[0m\u001b[0m\n\u001b[0m\u001b[1;32m      2\u001b[0m \u001b[0ms\u001b[0m\u001b[0;34m\u001b[0m\u001b[0;34m\u001b[0m\u001b[0m\n",
            "\u001b[0;31mKeyError\u001b[0m: 'Apple'"
          ]
        }
      ]
    },
    {
      "cell_type": "code",
      "source": [
        "s.discard(\"Apple\") #Using .discard() doesn't return an error\n",
        "s"
      ],
      "metadata": {
        "colab": {
          "base_uri": "https://localhost:8080/"
        },
        "id": "m8mFyMST7xvA",
        "outputId": "1d27518b-5646-44ec-94a2-d91c3cc8bf01"
      },
      "execution_count": null,
      "outputs": [
        {
          "output_type": "execute_result",
          "data": {
            "text/plain": [
              "{66, 'Grapefruit', 'Lemon', 'Lime', 'M', 'Orange', 'a', 'd', 'i', 'n', 'r'}"
            ]
          },
          "metadata": {},
          "execution_count": 45
        }
      ]
    },
    {
      "cell_type": "markdown",
      "source": [
        "#**7. Describe how to add, modify and delete items in a dictionary with examples.**\n",
        "\n",
        "#Dictionaries:\n",
        "Stores data as key value pair."
      ],
      "metadata": {
        "id": "2U-47say7_BN"
      }
    },
    {
      "cell_type": "code",
      "source": [
        "the = {\n",
        "    'Male protagonist': {\"name\": \"Tristan\", \"email\": \"moranatristan20@gmail.com\", \"contact\": \"hack and contact\", \"age\": 28, \"Best friend\": \"Dante\"},\n",
        "    'Female protagonist': {\"name\": \"Morana\", \"email\": \"tristanmorana20@gmail.com\", \"contact\": \"hack and track\", \"age\": 24}\n",
        "    }\n",
        "the"
      ],
      "metadata": {
        "colab": {
          "base_uri": "https://localhost:8080/"
        },
        "id": "gWwfdAST9PD0",
        "outputId": "6ed5424c-c9cd-4e24-f040-d7c56e00c578"
      },
      "execution_count": 62,
      "outputs": [
        {
          "output_type": "execute_result",
          "data": {
            "text/plain": [
              "{'Male protagonist': {'name': 'Tristan',\n",
              "  'email': 'moranatristan20@gmail.com',\n",
              "  'contact': 'hack and contact',\n",
              "  'age': 28,\n",
              "  'Best friend': 'Dante'},\n",
              " 'Female protagonist': {'name': 'Morana',\n",
              "  'email': 'tristanmorana20@gmail.com',\n",
              "  'contact': 'hack and track',\n",
              "  'age': 24}}"
            ]
          },
          "metadata": {},
          "execution_count": 62
        }
      ]
    },
    {
      "cell_type": "code",
      "source": [
        "the['Male protagonist'][\"Sobriquet\"] = \"Caveman\" #adds a new key value pair\n",
        "the"
      ],
      "metadata": {
        "id": "v5ARO-MeBhql",
        "colab": {
          "base_uri": "https://localhost:8080/"
        },
        "outputId": "4ee8e224-d918-4eee-a9c9-a1296e369130"
      },
      "execution_count": 56,
      "outputs": [
        {
          "output_type": "execute_result",
          "data": {
            "text/plain": [
              "{'Male protagonist': {'name': 'Tristan',\n",
              "  'email': 'moranatristan20@gmail.com',\n",
              "  'contact': 'hack and contact',\n",
              "  'age': 28,\n",
              "  'Best friend': 'Dante',\n",
              "  'Sobriquet': 'Caveman'},\n",
              " 'Female protagonist': {'name': 'Morana',\n",
              "  'email': 'tristanmorana20@gmail.com',\n",
              "  'contact': 'hack and track',\n",
              "  'age': 24}}"
            ]
          },
          "metadata": {},
          "execution_count": 56
        }
      ]
    },
    {
      "cell_type": "code",
      "source": [
        "the['Female protagonist'][\"Sobriquet\"] = \"Wildcat\"\n",
        "the"
      ],
      "metadata": {
        "colab": {
          "base_uri": "https://localhost:8080/"
        },
        "id": "xsoQzw3IDEaB",
        "outputId": "7f21e9c7-754c-4be7-f393-8922e6a9477d"
      },
      "execution_count": 57,
      "outputs": [
        {
          "output_type": "execute_result",
          "data": {
            "text/plain": [
              "{'Male protagonist': {'name': 'Tristan',\n",
              "  'email': 'moranatristan20@gmail.com',\n",
              "  'contact': 'hack and contact',\n",
              "  'age': 28,\n",
              "  'Best friend': 'Dante',\n",
              "  'Sobriquet': 'Caveman'},\n",
              " 'Female protagonist': {'name': 'Morana',\n",
              "  'email': 'tristanmorana20@gmail.com',\n",
              "  'contact': 'hack and track',\n",
              "  'age': 24,\n",
              "  'Sobriquet': 'Wildcat'}}"
            ]
          },
          "metadata": {},
          "execution_count": 57
        }
      ]
    },
    {
      "cell_type": "code",
      "source": [
        "the['Female protagonist'][\"age\"] = 23 #modifies the value of an existing key\n",
        "the"
      ],
      "metadata": {
        "colab": {
          "base_uri": "https://localhost:8080/"
        },
        "id": "V79X__eEC1en",
        "outputId": "0a6469ba-f619-435c-fe64-be4cff61a807"
      },
      "execution_count": 58,
      "outputs": [
        {
          "output_type": "execute_result",
          "data": {
            "text/plain": [
              "{'Male protagonist': {'name': 'Tristan',\n",
              "  'email': 'moranatristan20@gmail.com',\n",
              "  'contact': 'hack and contact',\n",
              "  'age': 28,\n",
              "  'Best friend': 'Dante',\n",
              "  'Sobriquet': 'Caveman'},\n",
              " 'Female protagonist': {'name': 'Morana',\n",
              "  'email': 'tristanmorana20@gmail.com',\n",
              "  'contact': 'hack and track',\n",
              "  'age': 23,\n",
              "  'Sobriquet': 'Wildcat'}}"
            ]
          },
          "metadata": {},
          "execution_count": 58
        }
      ]
    },
    {
      "cell_type": "code",
      "source": [
        "del the['Male protagonist'][\"Best friend\"] #deletes a key value pair\n",
        "the"
      ],
      "metadata": {
        "colab": {
          "base_uri": "https://localhost:8080/"
        },
        "id": "bNsKL-nDDYV8",
        "outputId": "511738df-33db-442c-cff2-3ac4a4a381a9"
      },
      "execution_count": 63,
      "outputs": [
        {
          "output_type": "execute_result",
          "data": {
            "text/plain": [
              "{'Male protagonist': {'name': 'Tristan',\n",
              "  'email': 'moranatristan20@gmail.com',\n",
              "  'contact': 'hack and contact',\n",
              "  'age': 28},\n",
              " 'Female protagonist': {'name': 'Morana',\n",
              "  'email': 'tristanmorana20@gmail.com',\n",
              "  'contact': 'hack and track',\n",
              "  'age': 24}}"
            ]
          },
          "metadata": {},
          "execution_count": 63
        }
      ]
    },
    {
      "cell_type": "code",
      "source": [
        "the.pop('Female protagonist') #deletes a key value pair\n",
        "the"
      ],
      "metadata": {
        "colab": {
          "base_uri": "https://localhost:8080/"
        },
        "id": "I4-LwCzCEPMC",
        "outputId": "4125cc3c-9ac6-4246-c6c9-fd05f27ead5d"
      },
      "execution_count": 64,
      "outputs": [
        {
          "output_type": "execute_result",
          "data": {
            "text/plain": [
              "{'Male protagonist': {'name': 'Tristan',\n",
              "  'email': 'moranatristan20@gmail.com',\n",
              "  'contact': 'hack and contact',\n",
              "  'age': 28}}"
            ]
          },
          "metadata": {},
          "execution_count": 64
        }
      ]
    },
    {
      "cell_type": "code",
      "source": [
        "the.clear() #clears the dictionary\n",
        "the"
      ],
      "metadata": {
        "colab": {
          "base_uri": "https://localhost:8080/"
        },
        "id": "mjntTpnbEfvE",
        "outputId": "44462c28-b4df-4995-f40b-971c2b98ed94"
      },
      "execution_count": 65,
      "outputs": [
        {
          "output_type": "execute_result",
          "data": {
            "text/plain": [
              "{}"
            ]
          },
          "metadata": {},
          "execution_count": 65
        }
      ]
    },
    {
      "cell_type": "markdown",
      "source": [
        "#**8. Discuss the importance of dictionary keys being immutable and provide examples.**\n",
        "Only immutable elements can be used as dictionary keys, and hence only tuples and not lists can be used as keys.\n",
        "If a key was mutable, its hash value could change, making it impossible to find the associated value in the dictionary.\n",
        "\n",
        "Keys in dictionaries are immutable as dictionaries use keys to determine the storage and retrieval of values.\n",
        "\n",
        "Immutable keys also provide a reliable and efficient way to hash and compare values, ensuring fast lookups and operations."
      ],
      "metadata": {
        "id": "f7H8vyHREobN"
      }
    },
    {
      "cell_type": "markdown",
      "source": [
        "#Rules of defining keys:\n"
      ],
      "metadata": {
        "id": "kJRTSSF6U-wL"
      }
    },
    {
      "cell_type": "code",
      "source": [
        "#Integer can be a key\n",
        "d = {1: \"One\", 2: \"Two\", 3: \"Three\"}\n",
        "d"
      ],
      "metadata": {
        "colab": {
          "base_uri": "https://localhost:8080/"
        },
        "id": "WGgV5gj0YJ0X",
        "outputId": "bb0a3a43-cd4b-473b-f284-a8534b5b4049"
      },
      "execution_count": 1,
      "outputs": [
        {
          "output_type": "execute_result",
          "data": {
            "text/plain": [
              "{1: 'One', 2: 'Two', 3: 'Three'}"
            ]
          },
          "metadata": {},
          "execution_count": 1
        }
      ]
    },
    {
      "cell_type": "code",
      "source": [
        "#Float can be a key\n",
        "d = {1.0: \"One\", 2.0: \"Two\", 3.0: \"Three\"}\n",
        "d"
      ],
      "metadata": {
        "colab": {
          "base_uri": "https://localhost:8080/"
        },
        "id": "cIhLA2gvYTI0",
        "outputId": "8cce5a99-e3fb-4cde-abf5-d92189e00bad"
      },
      "execution_count": 2,
      "outputs": [
        {
          "output_type": "execute_result",
          "data": {
            "text/plain": [
              "{1.0: 'One', 2.0: 'Two', 3.0: 'Three'}"
            ]
          },
          "metadata": {},
          "execution_count": 2
        }
      ]
    },
    {
      "cell_type": "code",
      "source": [
        "#Bool can be a key\n",
        "d = {True: \"One\", False: \"Two\"}\n",
        "d"
      ],
      "metadata": {
        "colab": {
          "base_uri": "https://localhost:8080/"
        },
        "id": "dqzMacVHYdiU",
        "outputId": "0dfc4f5a-3dac-4b9c-c7db-91979b6e219b"
      },
      "execution_count": 4,
      "outputs": [
        {
          "output_type": "execute_result",
          "data": {
            "text/plain": [
              "{True: 'One', False: 'Two'}"
            ]
          },
          "metadata": {},
          "execution_count": 4
        }
      ]
    },
    {
      "cell_type": "code",
      "source": [
        "# #(hashtag) cannot be a key\n",
        "d = {# : \"One\"}"
      ],
      "metadata": {
        "colab": {
          "base_uri": "https://localhost:8080/",
          "height": 109
        },
        "id": "_jYN9FbtYj0l",
        "outputId": "0fff0015-5004-4f3a-f30a-0187d3c15554"
      },
      "execution_count": 5,
      "outputs": [
        {
          "output_type": "error",
          "ename": "SyntaxError",
          "evalue": "incomplete input (<ipython-input-5-fb5f78997dae>, line 2)",
          "traceback": [
            "\u001b[0;36m  File \u001b[0;32m\"<ipython-input-5-fb5f78997dae>\"\u001b[0;36m, line \u001b[0;32m2\u001b[0m\n\u001b[0;31m    d = {# : \"One\"}\u001b[0m\n\u001b[0m                   ^\u001b[0m\n\u001b[0;31mSyntaxError\u001b[0m\u001b[0;31m:\u001b[0m incomplete input\n"
          ]
        }
      ]
    },
    {
      "cell_type": "code",
      "source": [
        "#Unique characters cannot be key\n",
        "d = {@: \"One\"}\n",
        "d"
      ],
      "metadata": {
        "colab": {
          "base_uri": "https://localhost:8080/",
          "height": 109
        },
        "id": "6dY05QDXYxP2",
        "outputId": "66dc7195-be5a-4f7f-f4a4-e354d5f0f54e"
      },
      "execution_count": 6,
      "outputs": [
        {
          "output_type": "error",
          "ename": "SyntaxError",
          "evalue": "invalid syntax (<ipython-input-6-9051c26bc4b8>, line 2)",
          "traceback": [
            "\u001b[0;36m  File \u001b[0;32m\"<ipython-input-6-9051c26bc4b8>\"\u001b[0;36m, line \u001b[0;32m2\u001b[0m\n\u001b[0;31m    d = {@: \"One\"}\u001b[0m\n\u001b[0m         ^\u001b[0m\n\u001b[0;31mSyntaxError\u001b[0m\u001b[0;31m:\u001b[0m invalid syntax\n"
          ]
        }
      ]
    },
    {
      "cell_type": "code",
      "source": [
        "#As list is mutable it cannot be a key\n",
        "d = {[1, 2, 3]: \"One\"}\n",
        "d"
      ],
      "metadata": {
        "colab": {
          "base_uri": "https://localhost:8080/",
          "height": 181
        },
        "id": "szPsW3B5Y8RP",
        "outputId": "2d146382-02cd-444e-bc74-ae0c6a8a6282"
      },
      "execution_count": 1,
      "outputs": [
        {
          "output_type": "error",
          "ename": "TypeError",
          "evalue": "unhashable type: 'list'",
          "traceback": [
            "\u001b[0;31m---------------------------------------------------------------------------\u001b[0m",
            "\u001b[0;31mTypeError\u001b[0m                                 Traceback (most recent call last)",
            "\u001b[0;32m<ipython-input-1-8839d11cad46>\u001b[0m in \u001b[0;36m<cell line: 2>\u001b[0;34m()\u001b[0m\n\u001b[1;32m      1\u001b[0m \u001b[0;31m#As list is mutable it cannot be a key\u001b[0m\u001b[0;34m\u001b[0m\u001b[0;34m\u001b[0m\u001b[0m\n\u001b[0;32m----> 2\u001b[0;31m \u001b[0md\u001b[0m \u001b[0;34m=\u001b[0m \u001b[0;34m{\u001b[0m\u001b[0;34m[\u001b[0m\u001b[0;36m1\u001b[0m\u001b[0;34m,\u001b[0m \u001b[0;36m2\u001b[0m\u001b[0;34m,\u001b[0m \u001b[0;36m3\u001b[0m\u001b[0;34m]\u001b[0m\u001b[0;34m:\u001b[0m \u001b[0;34m\"One\"\u001b[0m\u001b[0;34m}\u001b[0m\u001b[0;34m\u001b[0m\u001b[0;34m\u001b[0m\u001b[0m\n\u001b[0m\u001b[1;32m      3\u001b[0m \u001b[0md\u001b[0m\u001b[0;34m\u001b[0m\u001b[0;34m\u001b[0m\u001b[0m\n",
            "\u001b[0;31mTypeError\u001b[0m: unhashable type: 'list'"
          ]
        }
      ]
    },
    {
      "cell_type": "code",
      "source": [
        "#As tuple is immutable it can be used as a key\n",
        "d = {(1, 2, 3): \"One\"}\n",
        "d"
      ],
      "metadata": {
        "colab": {
          "base_uri": "https://localhost:8080/"
        },
        "id": "PxshtWxyKFiL",
        "outputId": "669168d8-8498-4b27-b831-39a3ad30014a"
      },
      "execution_count": 2,
      "outputs": [
        {
          "output_type": "execute_result",
          "data": {
            "text/plain": [
              "{(1, 2, 3): 'One'}"
            ]
          },
          "metadata": {},
          "execution_count": 2
        }
      ]
    },
    {
      "cell_type": "code",
      "source": [
        "##As sets are mutable it cannot be a key\n",
        "d = {{1, 2, 3}: \"One\"}\n",
        "d"
      ],
      "metadata": {
        "colab": {
          "base_uri": "https://localhost:8080/",
          "height": 181
        },
        "id": "B3icPfz6KPO-",
        "outputId": "fc34fc1d-7159-4a42-bcb0-100874f164de"
      },
      "execution_count": 3,
      "outputs": [
        {
          "output_type": "error",
          "ename": "TypeError",
          "evalue": "unhashable type: 'set'",
          "traceback": [
            "\u001b[0;31m---------------------------------------------------------------------------\u001b[0m",
            "\u001b[0;31mTypeError\u001b[0m                                 Traceback (most recent call last)",
            "\u001b[0;32m<ipython-input-3-a17a93ae603d>\u001b[0m in \u001b[0;36m<cell line: 2>\u001b[0;34m()\u001b[0m\n\u001b[1;32m      1\u001b[0m \u001b[0;31m##As sets are mutable it cannot be a key\u001b[0m\u001b[0;34m\u001b[0m\u001b[0;34m\u001b[0m\u001b[0m\n\u001b[0;32m----> 2\u001b[0;31m \u001b[0md\u001b[0m \u001b[0;34m=\u001b[0m \u001b[0;34m{\u001b[0m\u001b[0;34m{\u001b[0m\u001b[0;36m1\u001b[0m\u001b[0;34m,\u001b[0m \u001b[0;36m2\u001b[0m\u001b[0;34m,\u001b[0m \u001b[0;36m3\u001b[0m\u001b[0;34m}\u001b[0m\u001b[0;34m:\u001b[0m \u001b[0;34m\"One\"\u001b[0m\u001b[0;34m}\u001b[0m\u001b[0;34m\u001b[0m\u001b[0;34m\u001b[0m\u001b[0m\n\u001b[0m\u001b[1;32m      3\u001b[0m \u001b[0md\u001b[0m\u001b[0;34m\u001b[0m\u001b[0;34m\u001b[0m\u001b[0m\n",
            "\u001b[0;31mTypeError\u001b[0m: unhashable type: 'set'"
          ]
        }
      ]
    },
    {
      "cell_type": "code",
      "source": [
        "#A dictionary of a dictionary cannot be created as dict value can be mutable\n",
        "d = {{1: \"One\", 2: \"Two\", 3: \"Three\"}: \"Numbers\"}\n",
        "d"
      ],
      "metadata": {
        "colab": {
          "base_uri": "https://localhost:8080/",
          "height": 181
        },
        "id": "QK5XYc7LKaNw",
        "outputId": "f20f1102-f8b7-4209-c9e4-967d05c3e38a"
      },
      "execution_count": 5,
      "outputs": [
        {
          "output_type": "error",
          "ename": "TypeError",
          "evalue": "unhashable type: 'dict'",
          "traceback": [
            "\u001b[0;31m---------------------------------------------------------------------------\u001b[0m",
            "\u001b[0;31mTypeError\u001b[0m                                 Traceback (most recent call last)",
            "\u001b[0;32m<ipython-input-5-730722c4ffe0>\u001b[0m in \u001b[0;36m<cell line: 2>\u001b[0;34m()\u001b[0m\n\u001b[1;32m      1\u001b[0m \u001b[0;31m#A dictionary of a dictionary cannot be created as dict value can be mutable\u001b[0m\u001b[0;34m\u001b[0m\u001b[0;34m\u001b[0m\u001b[0m\n\u001b[0;32m----> 2\u001b[0;31m \u001b[0md\u001b[0m \u001b[0;34m=\u001b[0m \u001b[0;34m{\u001b[0m\u001b[0;34m{\u001b[0m\u001b[0;36m1\u001b[0m\u001b[0;34m:\u001b[0m \u001b[0;34m\"One\"\u001b[0m\u001b[0;34m,\u001b[0m \u001b[0;36m2\u001b[0m\u001b[0;34m:\u001b[0m \u001b[0;34m\"Two\"\u001b[0m\u001b[0;34m,\u001b[0m \u001b[0;36m3\u001b[0m\u001b[0;34m:\u001b[0m \u001b[0;34m\"Three\"\u001b[0m\u001b[0;34m}\u001b[0m\u001b[0;34m:\u001b[0m \u001b[0;34m\"Numbers\"\u001b[0m\u001b[0;34m}\u001b[0m\u001b[0;34m\u001b[0m\u001b[0;34m\u001b[0m\u001b[0m\n\u001b[0m\u001b[1;32m      3\u001b[0m \u001b[0md\u001b[0m\u001b[0;34m\u001b[0m\u001b[0;34m\u001b[0m\u001b[0m\n",
            "\u001b[0;31mTypeError\u001b[0m: unhashable type: 'dict'"
          ]
        }
      ]
    },
    {
      "cell_type": "markdown",
      "source": [
        "---> Only strings and numbers can be used as keys of the dictionary."
      ],
      "metadata": {
        "id": "3lrEwgh7LBL-"
      }
    },
    {
      "cell_type": "code",
      "source": [
        "the = {\n",
        "    'Male protagonist': {\"name\": \"Tristan\", \"email\": \"moranatristan20@gmail.com\", \"contact\": \"hack and contact\", \"age\": 28, \"Best friend\": \"Dante\"},\n",
        "    'Female protagonist': {\"name\": \"Morana\", \"email\": \"tristanmorana20@gmail.com\", \"contact\": \"hack and track\", \"age\": 24}\n",
        "    }\n",
        "the"
      ],
      "metadata": {
        "colab": {
          "base_uri": "https://localhost:8080/"
        },
        "id": "vV2ZhnhzK_ZF",
        "outputId": "0dca6a23-d3b0-4e9c-82fa-2d1a40bb00f5"
      },
      "execution_count": 11,
      "outputs": [
        {
          "output_type": "execute_result",
          "data": {
            "text/plain": [
              "{'Male protagonist': {'name': 'Tristan',\n",
              "  'email': 'moranatristan20@gmail.com',\n",
              "  'contact': 'hack and contact',\n",
              "  'age': 28,\n",
              "  'Best friend': 'Dante'},\n",
              " 'Female protagonist': {'name': 'Morana',\n",
              "  'email': 'tristanmorana20@gmail.com',\n",
              "  'contact': 'hack and track',\n",
              "  'age': 24}}"
            ]
          },
          "metadata": {},
          "execution_count": 11
        }
      ]
    },
    {
      "cell_type": "code",
      "source": [
        "duck = {\"name\": \"duckiee\", \"colour\": \"white\", \"age\": 2}\n",
        "duck"
      ],
      "metadata": {
        "colab": {
          "base_uri": "https://localhost:8080/"
        },
        "id": "0TJmBLTLMMa4",
        "outputId": "9ba9ecad-e358-45b9-c0de-7f65f79629d4"
      },
      "execution_count": 12,
      "outputs": [
        {
          "output_type": "execute_result",
          "data": {
            "text/plain": [
              "{'name': 'duckiee', 'colour': 'white', 'age': 2}"
            ]
          },
          "metadata": {},
          "execution_count": 12
        }
      ]
    },
    {
      "cell_type": "code",
      "source": [
        "duck['name'] #Value can be accessed using key\n",
        "duck"
      ],
      "metadata": {
        "colab": {
          "base_uri": "https://localhost:8080/"
        },
        "id": "CSnFzVQkMvc0",
        "outputId": "18268cc9-252a-4c28-ddbd-9801d8e818b8"
      },
      "execution_count": 14,
      "outputs": [
        {
          "output_type": "execute_result",
          "data": {
            "text/plain": [
              "{'name': 'duckiee', 'colour': 'white', 'age': 2}"
            ]
          },
          "metadata": {},
          "execution_count": 14
        }
      ]
    },
    {
      "cell_type": "code",
      "source": [
        "duck['duckiee'] #Key cannot be accessed using value and hence cannot be changed\n",
        "duck"
      ],
      "metadata": {
        "colab": {
          "base_uri": "https://localhost:8080/",
          "height": 163
        },
        "id": "h8Wbti-IMhXK",
        "outputId": "94223eb4-3bb0-4047-a66e-bc24f376707e"
      },
      "execution_count": 16,
      "outputs": [
        {
          "output_type": "error",
          "ename": "KeyError",
          "evalue": "'duckiee'",
          "traceback": [
            "\u001b[0;31m---------------------------------------------------------------------------\u001b[0m",
            "\u001b[0;31mKeyError\u001b[0m                                  Traceback (most recent call last)",
            "\u001b[0;32m<ipython-input-16-26b69ec26c77>\u001b[0m in \u001b[0;36m<cell line: 1>\u001b[0;34m()\u001b[0m\n\u001b[0;32m----> 1\u001b[0;31m \u001b[0mduck\u001b[0m\u001b[0;34m[\u001b[0m\u001b[0;34m'duckiee'\u001b[0m\u001b[0;34m]\u001b[0m\u001b[0;34m\u001b[0m\u001b[0;34m\u001b[0m\u001b[0m\n\u001b[0m\u001b[1;32m      2\u001b[0m \u001b[0mduck\u001b[0m\u001b[0;34m\u001b[0m\u001b[0;34m\u001b[0m\u001b[0m\n",
            "\u001b[0;31mKeyError\u001b[0m: 'duckiee'"
          ]
        }
      ]
    }
  ]
}